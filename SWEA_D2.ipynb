{
  "nbformat": 4,
  "nbformat_minor": 0,
  "metadata": {
    "colab": {
      "provenance": [],
      "authorship_tag": "ABX9TyPLVL7FwxzZFbTX39mYMQ4k",
      "include_colab_link": true
    },
    "kernelspec": {
      "name": "python3",
      "display_name": "Python 3"
    },
    "language_info": {
      "name": "python"
    }
  },
  "cells": [
    {
      "cell_type": "markdown",
      "metadata": {
        "id": "view-in-github",
        "colab_type": "text"
      },
      "source": [
        "<a href=\"https://colab.research.google.com/github/JJ-HMFIC/SWEA/blob/main/SWEA_D2.ipynb\" target=\"_parent\"><img src=\"https://colab.research.google.com/assets/colab-badge.svg\" alt=\"Open In Colab\"/></a>"
      ]
    },
    {
      "cell_type": "code",
      "execution_count": null,
      "metadata": {
        "id": "7mafwGe21IGB",
        "colab": {
          "base_uri": "https://localhost:8080/"
        },
        "outputId": "01eac98a-9f92-40a8-95a6-6fe129a5263d"
      },
      "outputs": [
        {
          "output_type": "stream",
          "name": "stdout",
          "text": [
            "2\n",
            "6791400\n",
            "#1 3 2 2 3 1\n",
            "1646400\n",
            "#2 6 1 2 3 0\n"
          ]
        }
      ],
      "source": [
        "#1945.간단한 소인수분해\n",
        "iter = int(input())\n",
        "arr = []\n",
        "for i in range(iter):\n",
        "    arr = [0,0,0,0,0]\n",
        "    num = int(input())\n",
        "\n",
        "    while num != 1:\n",
        "      if num % 11 ==0:\n",
        "        arr[4]+=1\n",
        "        num = num//11\n",
        "      elif num %7 == 0:\n",
        "        arr[3]+=1\n",
        "        num = num//7\n",
        "      elif num % 5 == 0:\n",
        "        arr[2]+=1\n",
        "        num = num//5\n",
        "      elif num % 3 == 0:\n",
        "        arr[1]+=1\n",
        "        num = num//3\n",
        "      elif num % 2 == 0:\n",
        "        arr[0]+=1\n",
        "        num = num//2\n",
        "    print(f'#{i+1} {arr[0]} {arr[1]} {arr[2]} {arr[3]} {arr[4]}')"
      ]
    },
    {
      "cell_type": "code",
      "source": [
        "#1928.Base64 Decoder\n",
        "iter = int(input())\n",
        "\n",
        "for i in range(iter):\n",
        "    str = input()\n"
      ],
      "metadata": {
        "id": "adZe4QEKsoEj"
      },
      "execution_count": null,
      "outputs": []
    },
    {
      "cell_type": "code",
      "source": [
        "#1986.지그재그 숫자\n",
        "iter = int(input())\n",
        "\n",
        "for i in range(iter):\n",
        "    num = int(input())\n",
        "    sum = 0\n",
        "    for j in range(1, num+1):\n",
        "      sum += ((-1)**(j+1)) * j\n",
        "    print(f'#{i+1} {sum}')\n",
        "\n",
        "6"
      ],
      "metadata": {
        "colab": {
          "base_uri": "https://localhost:8080/"
        },
        "id": "u7XF-MNG85cW",
        "outputId": "15f326e1-82d2-41a9-ce53-2aec62ab7ff6"
      },
      "execution_count": null,
      "outputs": [
        {
          "output_type": "stream",
          "name": "stdout",
          "text": [
            "2\n",
            "5\n",
            "#1 3\n",
            "6\n",
            "#2 -3\n"
          ]
        }
      ]
    },
    {
      "cell_type": "code",
      "source": [
        "arr = set()\n",
        "num = 1295\n",
        "for i in str(num):\n",
        "  arr.add(i)\n",
        "print(arr, len(arr))"
      ],
      "metadata": {
        "colab": {
          "base_uri": "https://localhost:8080/"
        },
        "id": "4TPG5PLgA1cp",
        "outputId": "f483f0ee-ca5e-40b3-90b8-03d035ab3a2b"
      },
      "execution_count": null,
      "outputs": [
        {
          "output_type": "stream",
          "name": "stdout",
          "text": [
            "{'1', '9', '2', '5'} 4\n"
          ]
        }
      ]
    },
    {
      "cell_type": "code",
      "source": [
        "num = 2590\n",
        "for i in str(num):\n",
        "  arr.add(i)\n",
        "print(arr, len(arr))"
      ],
      "metadata": {
        "colab": {
          "base_uri": "https://localhost:8080/"
        },
        "id": "B35JU12LCZV9",
        "outputId": "721dcede-e35c-4f2c-9a2d-895001446281"
      },
      "execution_count": null,
      "outputs": [
        {
          "output_type": "stream",
          "name": "stdout",
          "text": [
            "{'9', '8', '5', '1', '2', '0'} 6\n"
          ]
        }
      ]
    },
    {
      "cell_type": "code",
      "source": [
        "# 1288.새로운 불면증 치료법\n",
        "iter = int(input())\n",
        "\n",
        "for i in range(1,iter+1):\n",
        "  num = int(input())\n",
        "  arr = set()\n",
        "  cnt = 1\n",
        "  tmp = num\n",
        "  while True:\n",
        "    to_add = set(str(tmp)) # str 변환 -> 각 자리수를 set 에 추가\n",
        "    arr.update(to_add) # 중복 제거하고 추가\n",
        "    if len(arr) == 10:\n",
        "      break\n",
        "    cnt += 1\n",
        "    tmp =num * cnt\n",
        "  print(f'#{i} {tmp}')\n"
      ],
      "metadata": {
        "colab": {
          "base_uri": "https://localhost:8080/"
        },
        "id": "_cMCFfqC9qyW",
        "outputId": "74d47c56-13d0-4708-cff3-56e255a526cd"
      },
      "execution_count": null,
      "outputs": [
        {
          "output_type": "stream",
          "name": "stdout",
          "text": [
            "1\n",
            "1295\n",
            "#1 7770\n"
          ]
        }
      ]
    },
    {
      "cell_type": "code",
      "source": [
        "  arr = set()\n",
        "  cnt = 0\n",
        "  base = 1\n",
        "  num = int(input())\n",
        "  tmp = num\n",
        "  while((len(arr))!=10):\n",
        "    for j in str(tmp):\n",
        "      arr.add(int(j))\n",
        "    cnt +=1\n",
        "    tmp += num\n",
        "  print(f'#{i} {cnt}')\n",
        "  print(arr)\n"
      ],
      "metadata": {
        "colab": {
          "base_uri": "https://localhost:8080/"
        },
        "id": "hjVpLu2wGGze",
        "outputId": "4e4c2647-cebd-43c9-fe43-340bcda28181"
      },
      "execution_count": null,
      "outputs": [
        {
          "output_type": "stream",
          "name": "stdout",
          "text": [
            "#1 3\n",
            "{0, 1, 2, 3, 4, 5, 6, 7, 8, 9}\n"
          ]
        }
      ]
    },
    {
      "cell_type": "code",
      "source": [
        "#1284.수도 요금 경쟁\n",
        "T = int(input())\n",
        "for i in range(1,T+1):\n",
        "  num = list(map(int,input().split()))\n",
        "  P = num[0] # 1리터당 P원 , A사\n",
        "  Q = num[1] # 기본 요금 , B사\n",
        "  R = num[2] # R리터 이하일 경우 기본요금\n",
        "  S = num[3] # 초과 요금 S,\n",
        "  W = num[4] # 한달간 리터 요금\n",
        "  price_a = P*W\n",
        "  price_b = lambda W: (W-R)*S+Q if W>R else Q\n",
        "  result = min(price_a,price_b(W))\n",
        "\n",
        "  print(f'#{i} {result}')"
      ],
      "metadata": {
        "colab": {
          "base_uri": "https://localhost:8080/"
        },
        "id": "lt8n0GOzS-Jj",
        "outputId": "0cc421ab-a233-41ba-ee3d-4c2005fe93ab"
      },
      "execution_count": null,
      "outputs": [
        {
          "output_type": "stream",
          "name": "stdout",
          "text": [
            "2\n",
            "9 100 20 3 10\n",
            "#1 90\n",
            "8 300 100 10 250\n",
            "#2 1800\n"
          ]
        }
      ]
    },
    {
      "cell_type": "code",
      "source": [
        "#1989. 초심자의 회문 검사\n",
        "T = int(input())\n",
        "for i in range(1,T+1):\n",
        "  word = input()\n",
        "  reverse = word[::-1]\n",
        "  if word == reverse:\n",
        "    print(f'#{i} 1')\n",
        "  else:\n",
        "    print(f'#{i} 0')\n"
      ],
      "metadata": {
        "id": "HqMHYe9pWwls",
        "colab": {
          "base_uri": "https://localhost:8080/"
        },
        "outputId": "1c7584f0-96fe-4465-81fc-ff954bd1d560"
      },
      "execution_count": null,
      "outputs": [
        {
          "output_type": "stream",
          "name": "stdout",
          "text": [
            "1\n",
            "samsung\n",
            "#1 0\n"
          ]
        }
      ]
    },
    {
      "cell_type": "code",
      "source": [
        "#1959. 두 개의 숫자열 ★★\n",
        "T = int(input())\n",
        "\n",
        "for test_case in range(1,T+1):\n",
        "  N, M = map(int,input().split())\n",
        "\n",
        "  A = list(map(int,input().split()))\n",
        "  B = list(map(int,input().split()))\n",
        "  max = 0\n",
        "  if(N>M): # N과 A가 작은 숫자 및 배열이도록 유도한다\n",
        "    N,M = M,N\n",
        "    A,B = B,A\n",
        "\n",
        "  for i in range(M-N+1): # 긴거에서 작은거 차이만큼\n",
        "    sum = 0\n",
        "    for j in range(N): # 작은 배열 순회\n",
        "      sum += A[j] * B[i+j] # i+j = M+1\n",
        "    if (sum>max):\n",
        "      max = sum\n",
        "  print(f'#{test_case} {max}')\n",
        "\n",
        "\n",
        "\n"
      ],
      "metadata": {
        "id": "BemZ3GjjX9qz",
        "colab": {
          "base_uri": "https://localhost:8080/"
        },
        "outputId": "86c54ac2-c29f-4ae0-dd54-d092daaffce3"
      },
      "execution_count": null,
      "outputs": [
        {
          "output_type": "stream",
          "name": "stdout",
          "text": [
            "1\n",
            "3 5\n",
            "1 5 3\n",
            "3 6 -7 5 4\n",
            "[1, 5, 3] [3, 6, -7, 5, 4] 3 5\n",
            "#1 30\n"
          ]
        }
      ]
    },
    {
      "cell_type": "code",
      "source": [
        "#2007. 패턴 마디의 길이\n",
        "T = int(input())\n",
        "\n",
        "for test_case in range(1,T+1):\n",
        "  iter = input()\n"
      ],
      "metadata": {
        "id": "1R9ntYmwrSaB"
      },
      "execution_count": null,
      "outputs": []
    },
    {
      "cell_type": "code",
      "source": [
        "#1966. 숫자를 정렬하자\n",
        "T = int(input())\n",
        "\n",
        "for i in range(1,T+1):\n",
        "  N = int(input())\n",
        "  arr = list(map(int, input().split()))\n",
        "  arr.sort()\n",
        "  print(f'#{i} ',end='')\n",
        "  for j in range(N):\n",
        "    print(arr[j], end= ' ')\n",
        "  print()\n",
        "\n"
      ],
      "metadata": {
        "colab": {
          "base_uri": "https://localhost:8080/"
        },
        "id": "eC7pkB_7xD9Y",
        "outputId": "a58b510b-8d05-4675-e7c9-1a4a76724581"
      },
      "execution_count": null,
      "outputs": [
        {
          "output_type": "stream",
          "name": "stdout",
          "text": [
            "2\n",
            "5\n",
            "1 4 7 8 0\n",
            "#1 0 1 4 7 8 \n",
            "5\n",
            "1 4 7 8 0\n",
            "#2 0 1 4 7 8 \n"
          ]
        }
      ]
    },
    {
      "cell_type": "code",
      "source": [
        "#1948. 날짜 계산기 ★\n",
        "days = [0,31,28,31,30,31,30,31,31,30,31,30,31]\n",
        "\n",
        "T = int(input())\n",
        "\n",
        "for i in range(1,T+1):\n",
        "  sum_b = 0\n",
        "  sum_a = 0\n",
        "  A,a,B,b = map(int,input().split())\n",
        "  for j in range(B):\n",
        "    sum_b += days[j]\n",
        "  sum_b += b\n",
        "  for j in range(A):\n",
        "    sum_a += days[j]\n",
        "  sum_a += a\n",
        "\n",
        "  result = sum_b - sum_a +1\n",
        "  print(f'#{i} {result}')"
      ],
      "metadata": {
        "colab": {
          "base_uri": "https://localhost:8080/"
        },
        "id": "e412Oqn84lZm",
        "outputId": "f0596a64-d789-4dc8-e2e6-222c89203524"
      },
      "execution_count": null,
      "outputs": [
        {
          "output_type": "stream",
          "name": "stdout",
          "text": [
            "3\n",
            "3 1 3 31\n",
            "#1 31\n",
            "5 5 8 15\n",
            "#2 103\n",
            "7 17 12 24\n",
            "#3 161\n"
          ]
        }
      ]
    },
    {
      "cell_type": "code",
      "source": [
        "#1948. 날짜 계산기\n",
        "days = [31,28,31,40,31,30,31,31,30,31,30,31]\n",
        "\n",
        "T = int(input())\n",
        "\n",
        "for test_case in range(1,T+1):\n",
        "  sum = 0\n",
        "  A,a,B,b = map(int,input().split())\n",
        "\n",
        "  if(A==B):\n",
        "    print(f'#{test_case} {b-a+1}')\n",
        "  else:\n",
        "    for i in range(A,B):\n",
        "      sum += days[i-1]\n",
        "    sum += b-a\n",
        "    print(f'#{test_case} {sum}')"
      ],
      "metadata": {
        "colab": {
          "base_uri": "https://localhost:8080/"
        },
        "id": "wuoM7vuSCtoE",
        "outputId": "f9b8fe65-898e-4292-c410-ab0a36c7890b"
      },
      "execution_count": null,
      "outputs": [
        {
          "output_type": "stream",
          "name": "stdout",
          "text": [
            "1\n",
            "5 5 8 17\n",
            "#1 104\n"
          ]
        }
      ]
    },
    {
      "cell_type": "code",
      "source": [
        "#979. 어디에 단어가 들어갈 수 있을까 ★★\n",
        "T = int(input())\n",
        "\n",
        "for test_case in range(1,T+1):\n",
        "  N,K = map(int,input().split())\n",
        "  arr=[list(map(int,input().split())) for iter in range(N)]\n",
        "  result = 0\n",
        "\n",
        "  for i in range(N):\n",
        "    sum = 0\n",
        "\n",
        "    for j in range(N): # 행 검사\n",
        "      if arr[i][j] == 1: # 자리가 있다면 카운트\n",
        "        sum += 1\n",
        "\n",
        "      if arr[i][j]== 0 or j== N-1: # 자리가 없다면 or 끝에 다다르면\n",
        "        if sum == K: # 그때 자리가 연속으로 k였다면\n",
        "          result +=1 # 단어가 들어갈 자리 +1\n",
        "        sum = 0 # 초기화(sum = k가 아니니까 처음부터 다시 or 끝에 도달해서 초기화)\n",
        "\n",
        "    for j in range(N): # 열 검사 (마지막에 도달하면 sum=0으로 초기화 되어있음)\n",
        "        if arr[j][i] == 1:\n",
        "          sum+=1\n",
        "\n",
        "        if arr[j][i] == 0 or j==N-1:\n",
        "          if sum == K:\n",
        "            result+=1\n",
        "          sum = 0\n",
        "\n",
        "  print(f'#{test_case} {result}')"
      ],
      "metadata": {
        "id": "dU4rKxmfbg85",
        "colab": {
          "base_uri": "https://localhost:8080/"
        },
        "collapsed": true,
        "outputId": "e3509643-13a2-46a5-9fd5-f57d2bf6d0a7"
      },
      "execution_count": null,
      "outputs": [
        {
          "output_type": "stream",
          "name": "stdout",
          "text": [
            "1\n",
            "5 3\n",
            "0 0 1 1 1\n",
            "1 1 1 1 0\n",
            "0 0 1 0 0\n",
            "0 1 1 1 1\n",
            "1 1 1 0 1\n",
            "0\n",
            "0\n",
            "0\n",
            "0\n",
            "0\n",
            "0\n",
            "0\n",
            "0\n",
            "0\n",
            "0\n",
            "0\n",
            "0\n",
            "0\n",
            "0\n",
            "0\n",
            "0\n",
            "1\n",
            "2\n",
            "3\n",
            "3\n",
            "3\n",
            "3\n",
            "3\n",
            "3\n",
            "3\n",
            "#1 3\n"
          ]
        }
      ]
    },
    {
      "cell_type": "code",
      "source": [
        "# 1940. 가랏! RC카!\n",
        "T = int(input())\n",
        "\n",
        "for test_case in range(1,T+1):\n",
        "\n",
        "    N = int(input())\n",
        "    spd = 0\n",
        "    dis = 0\n",
        "\n",
        "    for i in range(N):\n",
        "        arr = list(map(int,input().split())) # command\n",
        "\n",
        "        if(arr[0]==1): # 가속\n",
        "            spd += arr[1]\n",
        "        elif(arr[0]==2): # 감속\n",
        "            spd -=arr[1]\n",
        "            if(spd<0):\n",
        "                spd = 0\n",
        "\n",
        "        dis += spd\n",
        "\n",
        "    print(f'#{test_case} {dis}')"
      ],
      "metadata": {
        "id": "azC3T_6geQrP"
      },
      "execution_count": null,
      "outputs": []
    },
    {
      "cell_type": "code",
      "source": [
        "# 1961. 숫자 배열 회전 ★★\n",
        "T = int(input())\n",
        "\n",
        "for test_case in range(1,T+1):\n",
        "    N = int(input())\n",
        "    arr = [list(map(int,input().split())) for iter in range(N)]\n",
        "\n",
        "    arr_90 = [[0 for _ in range(N)] for _ in range(N)]\n",
        "    arr_180 = [[0 for _ in range(N)] for _ in range(N)]\n",
        "    arr_270 = [[0 for _ in range(N)] for _ in range(N)]\n",
        "\n",
        "    for i in range(N):\n",
        "        for j in range(N):\n",
        "            arr_90[i][j] = arr[N-1-j][i]\n",
        "\n",
        "\n",
        "    for i in range(N):\n",
        "        for j in range(N):\n",
        "            arr_180[i][j] = arr_90[N-1-j][i]\n",
        "\n",
        "\n",
        "    for i in range(N):\n",
        "        for j in range(N):\n",
        "            arr_270[i][j] = arr_180[N-1-j][i]\n",
        "\n",
        "\n",
        "    print(f'#{test_case}')\n",
        "\n",
        "    for i in range(N):\n",
        "        for j in range(N):\n",
        "            print(arr_90[i][j],end='')\n",
        "        print(end=' ')\n",
        "        for j in range(N):\n",
        "            print(arr_180[i][j],end='')\n",
        "        print(end=' ')\n",
        "        for j in range(N):\n",
        "            print(arr_270[i][j],end='')\n",
        "        print()\n",
        "\n",
        "\n",
        "\n"
      ],
      "metadata": {
        "colab": {
          "base_uri": "https://localhost:8080/"
        },
        "id": "gLj9WJzVobN8",
        "outputId": "313761a0-434b-4cac-9e5e-cb1f520742ae"
      },
      "execution_count": null,
      "outputs": [
        {
          "output_type": "stream",
          "name": "stdout",
          "text": [
            "1\n",
            "3\n",
            "1 2 3\n",
            "4 5 6\n",
            "7 8 9\n",
            "#1\n",
            "741 987 369\n",
            "852 654 258\n",
            "963 321 147\n"
          ]
        }
      ]
    },
    {
      "cell_type": "code",
      "source": [
        "#1954. 달팽이 숫자 ★★★★\n",
        "T = int(input())\n",
        "#   → ↓ ← ↑\n",
        "di = [0,1,0,-1]\n",
        "dj = [1,0,-1,0]\n",
        "# 처음 방향 → i 그대로 j 증가\n",
        "# 방향 ↓ i 증가 j 그대로\n",
        "# 방향 ← i 그대로  j 감소\n",
        "# 방향 ↑ i 감소 j 그대로\n",
        "\n",
        "for test_case in range(1,T+1):\n",
        "    N = int(input())\n",
        "    arr = [[0 for i in range(N)] for j in range(N)]\n",
        "    cnt = 1\n",
        "\n",
        "    i, j, dr = 0,0,0 #dr = 방향\n",
        "    arr[i][j] = cnt\n",
        "    cnt+=1\n",
        "\n",
        "    while cnt<=N*N:\n",
        "        ni, nj = i+di[dr] , j+dj[dr] # next i, next j\n",
        "        if 0<=ni<N and 0<=nj<N and arr[ni][nj] == 0: # 범위 내 & 그 값이 0이라면\n",
        "            i,j = ni,nj\n",
        "            arr[i][j] = cnt\n",
        "            cnt+=1\n",
        "        else: # 범위 밖이라면 방향을 전환\n",
        "            dr = (dr+1)%4\n",
        "\n",
        "    print(f'#{test_case}')\n",
        "    for lst in arr:\n",
        "        print(*lst)"
      ],
      "metadata": {
        "id": "ipxzVnLvunQ4"
      },
      "execution_count": null,
      "outputs": []
    },
    {
      "cell_type": "code",
      "source": [
        "#2001. 파리 퇴치\n",
        "T = int(input())\n",
        "\n",
        "for test_case in range(1,T+1):\n",
        "    N,M = map(int,input().split())\n",
        "    arr = [list(map(int,input().split())) for _ in range(N)]\n",
        "\n",
        "\n",
        "    max = 0\n",
        "\n",
        "    for i in range(N-M+1):\n",
        "        for j in range(N-M+1):\n",
        "            sum = 0\n",
        "\n",
        "            for si in range(i,i+M):\n",
        "                for sj in range(j,j+M):\n",
        "                    sum+= arr[si][sj]\n",
        "            if max<sum:\n",
        "                max = sum\n",
        "    print(f'#{test_case} {max}')\n",
        "\n"
      ],
      "metadata": {
        "colab": {
          "base_uri": "https://localhost:8080/"
        },
        "id": "K0HrPPOfYf4p",
        "outputId": "62436153-9813-4ff6-d366-9de1af83a970"
      },
      "execution_count": null,
      "outputs": [
        {
          "output_type": "stream",
          "name": "stdout",
          "text": [
            "1\n",
            "5 2\n",
            "1 3 3 6 7\n",
            "8 13 9 12 8\n",
            "4 16 11 12 6\n",
            "2 4 1 23 2\n",
            "9 13 4 7 3\n",
            "#1 49\n"
          ]
        }
      ]
    },
    {
      "cell_type": "code",
      "source": [
        "#1974. 스도쿠 검증\n",
        "\n",
        "T = int(input())\n",
        "for test_case in range(1,T+1):\n",
        "    arr = [list(map(int, input().split())) for _ in range(9)]\n",
        "    result = []\n",
        "    for i in range(9): # 가로\n",
        "        tmp = set()\n",
        "        for j in range(9):\n",
        "            tmp.add(arr[i][j])\n",
        "        if len(tmp) == 9:\n",
        "            result.append(1)\n",
        "        else :\n",
        "            result.append(0)\n",
        "\n",
        "    for i in range(9): # 세로\n",
        "        tmp = set()\n",
        "        for j in range(9):\n",
        "            tmp.add(arr[j][i])\n",
        "        if len(tmp) == 9:\n",
        "            result.append(1)\n",
        "        else :\n",
        "            result.append(0)\n",
        "\n",
        "    for i in range(0,9,3): # 3*3\n",
        "        for j in range(0,9,3):\n",
        "            tmp = arr[i][j:j+3] + arr[i+1][j:j+3] + arr[i+2][j:j+3]\n",
        "        if len(set(tmp)) == 9:\n",
        "            result.append(1)\n",
        "        else:\n",
        "            result.append(0)\n",
        "    ans = 0\n",
        "    if 1 in result:\n",
        "        ans = 1\n",
        "    print(f'#{test_case} {ans}')\n",
        "\n",
        "\n",
        "\n"
      ],
      "metadata": {
        "colab": {
          "base_uri": "https://localhost:8080/"
        },
        "id": "6-SdPb8ueaOr",
        "outputId": "8957d599-2905-4edb-c73d-0d205148d7bf"
      },
      "execution_count": null,
      "outputs": [
        {
          "output_type": "stream",
          "name": "stdout",
          "text": [
            "1\n",
            "7 3 6 4 2 9 5 8 1\n",
            "5 8 9 1 6 7 3 2 4\n",
            "2 1 4 5 8 3 6 9 7\n",
            "8 4 7 9 3 6 1 5 2\n",
            "1 5 3 8 4 2 9 7 6\n",
            "9 6 2 7 5 1 8 4 3\n",
            "4 2 1 3 9 8 7 6 5\n",
            "3 9 5 6 7 4 2 1 8\n",
            "6 7 8 2 1 5 4 3 9\n",
            "#1 1\n"
          ]
        }
      ]
    },
    {
      "cell_type": "code",
      "source": [
        "def solve():\n",
        "    for lst in arr:\n",
        "        if len(set(lst)) != N: # 가로\n",
        "            return 0\n",
        "\n",
        "    arr1 = list(zip(*arr)) # 전치행렬 ~ 가로와 세로를 바꾸어 => 세로 검색\n",
        "    for lst in arr1: # 세로\n",
        "        if len(set(lst)) != N:\n",
        "            return 0\n",
        "\n",
        "    for i in range(0, 9, 3):\n",
        "        for j in range(0, 9, 3):\n",
        "            lst = arr[i][j:j+3] + arr[i+1][j:j+3] + arr[i+2][j:j+3] # 1행 2행 3행 3*3 행렬\n",
        "            if len(set(lst)) != N:\n",
        "                return 0\n",
        "\n",
        "    return 1\n",
        "\n",
        "T = int(input())\n",
        "for test_case in range(1, T + 1):\n",
        "    N = 9\n",
        "    arr = [list(map(int, input().split())) for _ in range(N)]\n",
        "\n",
        "    ans = solve()\n",
        "\n",
        "    print(f'#{test_case} {ans}')"
      ],
      "metadata": {
        "id": "G7OTrot78i3f"
      },
      "execution_count": null,
      "outputs": []
    },
    {
      "cell_type": "code",
      "source": [
        "#2005. 파스칼의 삼각형\n",
        "\n",
        "T = int(input())\n",
        "for test_case in range(1, T + 1):\n",
        "\n",
        "    N = int(input())\n",
        "\n",
        "    arr = [[0 for i in range(N)] for _ in range(N)]\n",
        "\n",
        "    for i in range(N):\n",
        "        arr[i][0] = 1\n",
        "\n",
        "        for j in range(0,i+1):\n",
        "            if i == j:\n",
        "                arr[i][j] = 1\n",
        "            else:\n",
        "                arr[i][j] = arr[i-1][j-1] + arr[i-1][j]\n",
        "    print(f'#{test_case}')\n",
        "    for i in range(N):\n",
        "        for j in range(N):\n",
        "            if arr[i][j] == 0:\n",
        "                continue\n",
        "            print(f'{arr[i][j]}',end= ' ')\n",
        "        print()\n",
        "\n",
        "\n",
        "\n"
      ],
      "metadata": {
        "colab": {
          "base_uri": "https://localhost:8080/"
        },
        "id": "cSmaqhok9sNz",
        "outputId": "178b3da4-4b80-4f6c-c768-78fdbf502392"
      },
      "execution_count": null,
      "outputs": [
        {
          "output_type": "stream",
          "name": "stdout",
          "text": [
            "1\n",
            "4\n",
            "#1\n",
            "1 \n",
            "1 1 \n",
            "1 2 1 \n",
            "1 3 3 1 \n"
          ]
        }
      ]
    },
    {
      "cell_type": "code",
      "source": [
        "#1976. 시각 덧셈\n",
        "\n",
        "T = int(input())\n",
        "for test_case in range(1, T + 1):\n",
        "    arr = list(map(int,input().split()))\n",
        "    min = arr[1] + arr[3]\n",
        "    hour = arr[0]+arr[2]\n",
        "    if min > 59:\n",
        "        min -= 60\n",
        "        hour += 1\n",
        "    if hour > 12:\n",
        "        hour -= 12\n",
        "    print(f'#{test_case} {hour} {min}')"
      ],
      "metadata": {
        "colab": {
          "base_uri": "https://localhost:8080/"
        },
        "id": "HWMOXO7xE3sM",
        "outputId": "d1e64ea9-ada4-476e-93f0-f07351af1d5a"
      },
      "execution_count": null,
      "outputs": [
        {
          "output_type": "stream",
          "name": "stdout",
          "text": [
            "1\n",
            "8 22 5 10\n",
            "# 1 1 32\n"
          ]
        }
      ]
    },
    {
      "cell_type": "code",
      "source": [
        "#1926. 간단한 369게임\n",
        "clap = ['3','6','9']\n",
        "N = int(input())\n",
        "for i in range(1,N+1):\n",
        "    cnt = 0\n",
        "    for j in str(i):\n",
        "        if j in clap:\n",
        "            cnt+=1\n",
        "    if cnt > 0:\n",
        "        i = '-'*cnt\n",
        "\n",
        "    print(i,end=' ')"
      ],
      "metadata": {
        "id": "XJ4bskrQHdPK"
      },
      "execution_count": null,
      "outputs": []
    },
    {
      "cell_type": "code",
      "source": [
        "#count 함수 활용\n",
        "N = int(input())\n",
        "for i in range(1,N+1):\n",
        "    i = str(i)\n",
        "    clap = i.count('3') + i.count('6') +i.count('9')\n",
        "\n",
        "    if clap ==0:\n",
        "        print(i, end =' ')\n",
        "    else:\n",
        "        print('-'*clap, end=' ')"
      ],
      "metadata": {
        "id": "nzsrMSbAnq3J"
      },
      "execution_count": null,
      "outputs": []
    },
    {
      "cell_type": "code",
      "source": [
        "# 1970. 쉬운 거스름돈\n",
        "T = int(input())\n",
        "for test_case in range(1, T + 1):\n",
        "    money = int(input())\n",
        "    arr = []\n",
        "    arr.append(money//50000)\n",
        "    money = money % 50000\n",
        "    arr.append(money//10000)\n",
        "    money = money % 10000\n",
        "    arr.append(money//5000)\n",
        "    money = money % 5000\n",
        "    arr.append(money//1000)\n",
        "    money = money % 1000\n",
        "    arr.append(money//500)\n",
        "    money = money % 500\n",
        "    arr.append(money//100)\n",
        "    money = money % 100\n",
        "    arr.append(money//50)\n",
        "    money = money % 50\n",
        "    arr.append(money//10)\n",
        "    money = money % 10\n",
        "    print(f'#{test_case}')\n",
        "    for i in range(len(arr)):\n",
        "        print(arr[i], end = ' ')\n",
        "    print()"
      ],
      "metadata": {
        "colab": {
          "base_uri": "https://localhost:8080/"
        },
        "id": "dE3HrfcakNZl",
        "outputId": "283759b5-98ac-48ea-dfa9-365532b33ed4"
      },
      "execution_count": 2,
      "outputs": [
        {
          "output_type": "stream",
          "name": "stdout",
          "text": [
            "1\n",
            "32850\n",
            "0 3 0 2 1 3 1 0 \n"
          ]
        }
      ]
    },
    {
      "cell_type": "code",
      "source": [
        "#1983. 조교의 성적 매기기\n",
        "T = int(input())\n",
        "grade = ['A+', 'A0', 'A-', 'B+', 'B0', 'B-', 'C+', 'C0', 'C-', 'D0']\n",
        "for test_case in range(1, T + 1):\n",
        "    N,K = map(int,input().split())\n",
        "    arr = []\n",
        "    for i in range(N):\n",
        "        mid,final,asg =  map(int,input().split())\n",
        "        score = mid *0.35 + final*0.45+ asg*0.2\n",
        "        arr.append(score)\n",
        "\n",
        "    tmp = arr[K-1]\n",
        "    arr.sort(reverse = True)\n",
        "\n",
        "    div = N//10 # div 명씩 같은 학점 부여 가능\n",
        "\n",
        "    idx = arr.index(tmp) # 정렬된 인덱스 반환 = 등수 -1 , 1등이면 0 반환\n",
        "    output = grade[idx//div]\n",
        "\n",
        "\n",
        "\n",
        "    print(f'#{test_case} {output}')"
      ],
      "metadata": {
        "id": "RW6xhk48tXRb"
      },
      "execution_count": null,
      "outputs": []
    },
    {
      "cell_type": "code",
      "source": [
        "# 1946. 간단한 압축 풀기\n",
        "T = int(input())\n",
        "for test_case in range(1, T + 1):\n",
        "    N = int(input())\n",
        "    text = \"\"\n",
        "    for i in range(N):\n",
        "        C, K = input().split()\n",
        "        text += C * int(K)\n",
        "\n",
        "    print(f'#{test_case}')\n",
        "    for i in range(0,len(text), 10):\n",
        "        print(text[i:i+10])"
      ],
      "metadata": {
        "colab": {
          "base_uri": "https://localhost:8080/"
        },
        "id": "GxdZDUE4ywh5",
        "outputId": "88ac89e9-784e-45f6-f2f5-dd812f2c6c0e"
      },
      "execution_count": 6,
      "outputs": [
        {
          "output_type": "stream",
          "name": "stdout",
          "text": [
            "1\n",
            "3\n",
            "a 10\n",
            "b 7\n",
            "c 5\n",
            "#1\n",
            "aaaaaaaaaa\n",
            "bbbbbbbccc\n",
            "cc\n"
          ]
        }
      ]
    },
    {
      "cell_type": "code",
      "source": [
        "#1204. [S/W 문제해결 기본] 1일차 - 최빈수 구하기\n",
        "\n",
        "T = int(input())\n",
        "for test_case in range(1, T + 1):\n",
        "    N = int(input())\n",
        "    score = list(map(int, input().split())) #점수 리스트\n",
        "\n",
        "    cnt = dict() # 빈도수 : 점수\n",
        "    for i in set(score): # 중복방지 set -> 순수 점수만\n",
        "        key = score.count(i) # 점수가 몇 번 나왔는지 ~ 최빈값 측정\n",
        "\n",
        "        if key in cnt: # 빈도수가 같다면\n",
        "            cnt[key] = max(cnt[key], i) # 최빈값 중 큰 수를\n",
        "        else:\n",
        "            cnt[key] = i\n",
        "\n",
        "    print(f'#{test_case} {cnt[max(cnt)]}')\n",
        "    # max(dict) => key 값 중 가장 큰 값 반환\n",
        "    # 가장 큰 키값(빈도수)의 value 반환"
      ],
      "metadata": {
        "id": "pJIyASj6KLnf"
      },
      "execution_count": null,
      "outputs": []
    },
    {
      "cell_type": "code",
      "source": [
        "abc = {1:2,2:3}\n",
        "max(abc)"
      ],
      "metadata": {
        "colab": {
          "base_uri": "https://localhost:8080/"
        },
        "id": "CRtu0FN7aMDq",
        "outputId": "1705866d-2358-462b-da57-483783ca61bc"
      },
      "execution_count": 7,
      "outputs": [
        {
          "output_type": "execute_result",
          "data": {
            "text/plain": [
              "2"
            ]
          },
          "metadata": {},
          "execution_count": 7
        }
      ]
    },
    {
      "cell_type": "code",
      "source": [],
      "metadata": {
        "id": "0000JAR0alky"
      },
      "execution_count": null,
      "outputs": []
    }
  ]
}