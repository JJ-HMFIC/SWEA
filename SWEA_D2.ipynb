{
  "nbformat": 4,
  "nbformat_minor": 0,
  "metadata": {
    "colab": {
      "provenance": [],
      "authorship_tag": "ABX9TyNwT0aDueX2NOq8E/b3jNjY",
      "include_colab_link": true
    },
    "kernelspec": {
      "name": "python3",
      "display_name": "Python 3"
    },
    "language_info": {
      "name": "python"
    }
  },
  "cells": [
    {
      "cell_type": "markdown",
      "metadata": {
        "id": "view-in-github",
        "colab_type": "text"
      },
      "source": [
        "<a href=\"https://colab.research.google.com/github/JJ-HMFIC/SWEA/blob/main/SWEA_D2.ipynb\" target=\"_parent\"><img src=\"https://colab.research.google.com/assets/colab-badge.svg\" alt=\"Open In Colab\"/></a>"
      ]
    },
    {
      "cell_type": "code",
      "execution_count": null,
      "metadata": {
        "id": "7mafwGe21IGB",
        "colab": {
          "base_uri": "https://localhost:8080/"
        },
        "outputId": "01eac98a-9f92-40a8-95a6-6fe129a5263d"
      },
      "outputs": [
        {
          "output_type": "stream",
          "name": "stdout",
          "text": [
            "2\n",
            "6791400\n",
            "#1 3 2 2 3 1\n",
            "1646400\n",
            "#2 6 1 2 3 0\n"
          ]
        }
      ],
      "source": [
        "#1945.간단한 소인수분해\n",
        "iter = int(input())\n",
        "arr = []\n",
        "for i in range(iter):\n",
        "    arr = [0,0,0,0,0]\n",
        "    num = int(input())\n",
        "\n",
        "    while num != 1:\n",
        "      if num % 11 ==0:\n",
        "        arr[4]+=1\n",
        "        num = num//11\n",
        "      elif num %7 == 0:\n",
        "        arr[3]+=1\n",
        "        num = num//7\n",
        "      elif num % 5 == 0:\n",
        "        arr[2]+=1\n",
        "        num = num//5\n",
        "      elif num % 3 == 0:\n",
        "        arr[1]+=1\n",
        "        num = num//3\n",
        "      elif num % 2 == 0:\n",
        "        arr[0]+=1\n",
        "        num = num//2\n",
        "    print(f'#{i+1} {arr[0]} {arr[1]} {arr[2]} {arr[3]} {arr[4]}')"
      ]
    },
    {
      "cell_type": "code",
      "source": [
        "#1928.Base64 Decoder\n",
        "iter = int(input())\n",
        "\n",
        "for i in range(iter):\n",
        "    str = input()\n"
      ],
      "metadata": {
        "id": "adZe4QEKsoEj"
      },
      "execution_count": null,
      "outputs": []
    },
    {
      "cell_type": "code",
      "source": [
        "#1986.지그재그 숫자\n",
        "iter = int(input())\n",
        "\n",
        "for i in range(iter):\n",
        "    num = int(input())\n",
        "    sum = 0\n",
        "    for j in range(1, num+1):\n",
        "      sum += ((-1)**(j+1)) * j\n",
        "    print(f'#{i+1} {sum}')\n",
        "\n",
        "6"
      ],
      "metadata": {
        "colab": {
          "base_uri": "https://localhost:8080/"
        },
        "id": "u7XF-MNG85cW",
        "outputId": "15f326e1-82d2-41a9-ce53-2aec62ab7ff6"
      },
      "execution_count": 2,
      "outputs": [
        {
          "output_type": "stream",
          "name": "stdout",
          "text": [
            "2\n",
            "5\n",
            "#1 3\n",
            "6\n",
            "#2 -3\n"
          ]
        }
      ]
    },
    {
      "cell_type": "code",
      "source": [
        "arr = set()\n",
        "num = 1295\n",
        "for i in str(num):\n",
        "  arr.add(i)\n",
        "print(arr, len(arr))"
      ],
      "metadata": {
        "colab": {
          "base_uri": "https://localhost:8080/"
        },
        "id": "4TPG5PLgA1cp",
        "outputId": "f483f0ee-ca5e-40b3-90b8-03d035ab3a2b"
      },
      "execution_count": 17,
      "outputs": [
        {
          "output_type": "stream",
          "name": "stdout",
          "text": [
            "{'1', '9', '2', '5'} 4\n"
          ]
        }
      ]
    },
    {
      "cell_type": "code",
      "source": [
        "num = 2590\n",
        "for i in str(num):\n",
        "  arr.add(i)\n",
        "print(arr, len(arr))"
      ],
      "metadata": {
        "colab": {
          "base_uri": "https://localhost:8080/"
        },
        "id": "B35JU12LCZV9",
        "outputId": "721dcede-e35c-4f2c-9a2d-895001446281"
      },
      "execution_count": 20,
      "outputs": [
        {
          "output_type": "stream",
          "name": "stdout",
          "text": [
            "{'9', '8', '5', '1', '2', '0'} 6\n"
          ]
        }
      ]
    },
    {
      "cell_type": "code",
      "source": [
        "# 1288.새로운 불면증 치료법\n",
        "iter = int(input())\n",
        "\n",
        "for i in range(1,iter+1):\n",
        "  num = int(input())\n",
        "  arr = set()\n",
        "  cnt = 1\n",
        "  tmp = num\n",
        "  while True:\n",
        "    to_add = set(str(tmp)) # str 변환 -> 각 자리수를 set 에 추가\n",
        "    arr.update(to_add) # 중복 제거하고 추가\n",
        "    if len(arr) == 10:\n",
        "      break\n",
        "    cnt += 1\n",
        "    tmp =num * cnt\n",
        "  print(f'#{i} {tmp}')\n"
      ],
      "metadata": {
        "colab": {
          "base_uri": "https://localhost:8080/"
        },
        "id": "_cMCFfqC9qyW",
        "outputId": "74d47c56-13d0-4708-cff3-56e255a526cd"
      },
      "execution_count": 64,
      "outputs": [
        {
          "output_type": "stream",
          "name": "stdout",
          "text": [
            "1\n",
            "1295\n",
            "#1 7770\n"
          ]
        }
      ]
    },
    {
      "cell_type": "code",
      "source": [
        "  arr = set()\n",
        "  cnt = 0\n",
        "  base = 1\n",
        "  num = int(input())\n",
        "  tmp = num\n",
        "  while((len(arr))!=10):\n",
        "    for j in str(tmp):\n",
        "      arr.add(int(j))\n",
        "    cnt +=1\n",
        "    tmp += num\n",
        "  print(f'#{i} {cnt}')\n",
        "  print(arr)\n",
        ""
      ],
      "metadata": {
        "colab": {
          "base_uri": "https://localhost:8080/"
        },
        "id": "hjVpLu2wGGze",
        "outputId": "4e4c2647-cebd-43c9-fe43-340bcda28181"
      },
      "execution_count": 39,
      "outputs": [
        {
          "output_type": "stream",
          "name": "stdout",
          "text": [
            "#1 3\n",
            "{0, 1, 2, 3, 4, 5, 6, 7, 8, 9}\n"
          ]
        }
      ]
    },
    {
      "cell_type": "code",
      "source": [
        "#1284.수도 요금 경쟁\n",
        "T = int(input())\n",
        "for i in range(1,T+1):\n",
        "  num = list(map(int,input().split()))\n",
        "  P = num[0] # 1리터당 P원 , A사\n",
        "  Q = num[1] # 기본 요금 , B사\n",
        "  R = num[2] # R리터 이하일 경우 기본요금\n",
        "  S = num[3] # 초과 요금 S,\n",
        "  W = num[4] # 한달간 리터 요금\n",
        "  price_a = P*W\n",
        "  price_b = lambda W: (W-R)*S+Q if W>R else Q\n",
        "  result = min(price_a,price_b(W))\n",
        "\n",
        "  print(f'#{i} {result}')"
      ],
      "metadata": {
        "colab": {
          "base_uri": "https://localhost:8080/"
        },
        "id": "lt8n0GOzS-Jj",
        "outputId": "0cc421ab-a233-41ba-ee3d-4c2005fe93ab"
      },
      "execution_count": 72,
      "outputs": [
        {
          "output_type": "stream",
          "name": "stdout",
          "text": [
            "2\n",
            "9 100 20 3 10\n",
            "#1 90\n",
            "8 300 100 10 250\n",
            "#2 1800\n"
          ]
        }
      ]
    },
    {
      "cell_type": "code",
      "source": [
        "#1989. 초심자의 회문 검사\n",
        "T = int(input())\n",
        "for i in range(1,T+1):\n",
        "  word = input()\n",
        ""
      ],
      "metadata": {
        "id": "HqMHYe9pWwls"
      },
      "execution_count": null,
      "outputs": []
    },
    {
      "cell_type": "code",
      "source": [],
      "metadata": {
        "id": "BemZ3GjjX9qz"
      },
      "execution_count": null,
      "outputs": []
    }
  ]
}