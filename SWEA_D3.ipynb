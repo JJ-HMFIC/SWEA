{
  "nbformat": 4,
  "nbformat_minor": 0,
  "metadata": {
    "colab": {
      "provenance": [],
      "authorship_tag": "ABX9TyOutWfL3ywxIo9QHMvifHWg",
      "include_colab_link": true
    },
    "kernelspec": {
      "name": "python3",
      "display_name": "Python 3"
    },
    "language_info": {
      "name": "python"
    }
  },
  "cells": [
    {
      "cell_type": "markdown",
      "metadata": {
        "id": "view-in-github",
        "colab_type": "text"
      },
      "source": [
        "<a href=\"https://colab.research.google.com/github/JJ-HMFIC/SWEA/blob/main/SWEA_D3.ipynb\" target=\"_parent\"><img src=\"https://colab.research.google.com/assets/colab-badge.svg\" alt=\"Open In Colab\"/></a>"
      ]
    },
    {
      "cell_type": "code",
      "execution_count": null,
      "metadata": {
        "id": "TUszlY-JpGsL",
        "colab": {
          "base_uri": "https://localhost:8080/"
        },
        "outputId": "305f4f34-d5e9-4599-c003-323ba3e1d2e1"
      },
      "outputs": [
        {
          "output_type": "stream",
          "name": "stdout",
          "text": [
            "2\n",
            "0011\n",
            "#1 1\n",
            "100\n",
            "#2 2\n"
          ]
        }
      ],
      "source": [
        "#1289. 원재의 메모리 복구하기\n",
        "T = int(input())\n",
        "for test_case in range(1, T + 1):\n",
        "    cnt = 0\n",
        "    num = list(input())\n",
        "    if num[0] == '1':\n",
        "        cnt +=1\n",
        "    for i in range(1,len(num)):\n",
        "        if num[i] != num[i-1]:\n",
        "            cnt +=1\n",
        "    print(f'#{test_case} {cnt}')\n"
      ]
    },
    {
      "cell_type": "code",
      "source": [
        "#1217. [S/W 문제해결 기본] 4일차 - 거듭 제곱\n",
        "\n",
        "for test_case in range(1, 11):\n",
        "    T = int(input())\n",
        "\n",
        "    base, ex = map(int,input().split())\n",
        "    result = base**ex\n",
        "    print(f'#{T} {result}')"
      ],
      "metadata": {
        "colab": {
          "base_uri": "https://localhost:8080/",
          "height": 481
        },
        "id": "TNlhkHj2V443",
        "outputId": "a91c4c7c-ed8d-49af-c422-e54d5c4b2641"
      },
      "execution_count": null,
      "outputs": [
        {
          "output_type": "stream",
          "name": "stdout",
          "text": [
            "1\n",
            "9 8\n",
            "#1 43046721\n",
            "2\n",
            "2 8\n",
            "#2 256\n"
          ]
        },
        {
          "output_type": "error",
          "ename": "KeyboardInterrupt",
          "evalue": "Interrupted by user",
          "traceback": [
            "\u001b[0;31m---------------------------------------------------------------------------\u001b[0m",
            "\u001b[0;31mKeyboardInterrupt\u001b[0m                         Traceback (most recent call last)",
            "\u001b[0;32m<ipython-input-9-004c84328c3e>\u001b[0m in \u001b[0;36m<cell line: 3>\u001b[0;34m()\u001b[0m\n\u001b[1;32m      2\u001b[0m \u001b[0;34m\u001b[0m\u001b[0m\n\u001b[1;32m      3\u001b[0m \u001b[0;32mfor\u001b[0m \u001b[0mtest_case\u001b[0m \u001b[0;32min\u001b[0m \u001b[0mrange\u001b[0m\u001b[0;34m(\u001b[0m\u001b[0;36m1\u001b[0m\u001b[0;34m,\u001b[0m \u001b[0;36m11\u001b[0m\u001b[0;34m)\u001b[0m\u001b[0;34m:\u001b[0m\u001b[0;34m\u001b[0m\u001b[0;34m\u001b[0m\u001b[0m\n\u001b[0;32m----> 4\u001b[0;31m     \u001b[0mT\u001b[0m \u001b[0;34m=\u001b[0m \u001b[0mint\u001b[0m\u001b[0;34m(\u001b[0m\u001b[0minput\u001b[0m\u001b[0;34m(\u001b[0m\u001b[0;34m)\u001b[0m\u001b[0;34m)\u001b[0m\u001b[0;34m\u001b[0m\u001b[0;34m\u001b[0m\u001b[0m\n\u001b[0m\u001b[1;32m      5\u001b[0m     \u001b[0;31m#result = 0\u001b[0m\u001b[0;34m\u001b[0m\u001b[0;34m\u001b[0m\u001b[0m\n\u001b[1;32m      6\u001b[0m     \u001b[0mbase\u001b[0m\u001b[0;34m,\u001b[0m \u001b[0mex\u001b[0m \u001b[0;34m=\u001b[0m \u001b[0mmap\u001b[0m\u001b[0;34m(\u001b[0m\u001b[0mint\u001b[0m\u001b[0;34m,\u001b[0m\u001b[0minput\u001b[0m\u001b[0;34m(\u001b[0m\u001b[0;34m)\u001b[0m\u001b[0;34m.\u001b[0m\u001b[0msplit\u001b[0m\u001b[0;34m(\u001b[0m\u001b[0;34m)\u001b[0m\u001b[0;34m)\u001b[0m\u001b[0;34m\u001b[0m\u001b[0;34m\u001b[0m\u001b[0m\n",
            "\u001b[0;32m/usr/local/lib/python3.10/dist-packages/ipykernel/kernelbase.py\u001b[0m in \u001b[0;36mraw_input\u001b[0;34m(self, prompt)\u001b[0m\n\u001b[1;32m    849\u001b[0m                 \u001b[0;34m\"raw_input was called, but this frontend does not support input requests.\"\u001b[0m\u001b[0;34m\u001b[0m\u001b[0;34m\u001b[0m\u001b[0m\n\u001b[1;32m    850\u001b[0m             )\n\u001b[0;32m--> 851\u001b[0;31m         return self._input_request(str(prompt),\n\u001b[0m\u001b[1;32m    852\u001b[0m             \u001b[0mself\u001b[0m\u001b[0;34m.\u001b[0m\u001b[0m_parent_ident\u001b[0m\u001b[0;34m,\u001b[0m\u001b[0;34m\u001b[0m\u001b[0;34m\u001b[0m\u001b[0m\n\u001b[1;32m    853\u001b[0m             \u001b[0mself\u001b[0m\u001b[0;34m.\u001b[0m\u001b[0m_parent_header\u001b[0m\u001b[0;34m,\u001b[0m\u001b[0;34m\u001b[0m\u001b[0;34m\u001b[0m\u001b[0m\n",
            "\u001b[0;32m/usr/local/lib/python3.10/dist-packages/ipykernel/kernelbase.py\u001b[0m in \u001b[0;36m_input_request\u001b[0;34m(self, prompt, ident, parent, password)\u001b[0m\n\u001b[1;32m    893\u001b[0m             \u001b[0;32mexcept\u001b[0m \u001b[0mKeyboardInterrupt\u001b[0m\u001b[0;34m:\u001b[0m\u001b[0;34m\u001b[0m\u001b[0;34m\u001b[0m\u001b[0m\n\u001b[1;32m    894\u001b[0m                 \u001b[0;31m# re-raise KeyboardInterrupt, to truncate traceback\u001b[0m\u001b[0;34m\u001b[0m\u001b[0;34m\u001b[0m\u001b[0m\n\u001b[0;32m--> 895\u001b[0;31m                 \u001b[0;32mraise\u001b[0m \u001b[0mKeyboardInterrupt\u001b[0m\u001b[0;34m(\u001b[0m\u001b[0;34m\"Interrupted by user\"\u001b[0m\u001b[0;34m)\u001b[0m \u001b[0;32mfrom\u001b[0m \u001b[0;32mNone\u001b[0m\u001b[0;34m\u001b[0m\u001b[0;34m\u001b[0m\u001b[0m\n\u001b[0m\u001b[1;32m    896\u001b[0m             \u001b[0;32mexcept\u001b[0m \u001b[0mException\u001b[0m \u001b[0;32mas\u001b[0m \u001b[0me\u001b[0m\u001b[0;34m:\u001b[0m\u001b[0;34m\u001b[0m\u001b[0;34m\u001b[0m\u001b[0m\n\u001b[1;32m    897\u001b[0m                 \u001b[0mself\u001b[0m\u001b[0;34m.\u001b[0m\u001b[0mlog\u001b[0m\u001b[0;34m.\u001b[0m\u001b[0mwarning\u001b[0m\u001b[0;34m(\u001b[0m\u001b[0;34m\"Invalid Message:\"\u001b[0m\u001b[0;34m,\u001b[0m \u001b[0mexc_info\u001b[0m\u001b[0;34m=\u001b[0m\u001b[0;32mTrue\u001b[0m\u001b[0;34m)\u001b[0m\u001b[0;34m\u001b[0m\u001b[0;34m\u001b[0m\u001b[0m\n",
            "\u001b[0;31mKeyboardInterrupt\u001b[0m: Interrupted by user"
          ]
        }
      ]
    },
    {
      "cell_type": "code",
      "source": [
        "#1215. [S/W 문제해결 기본] 3일차 - 회문1\n",
        "for test_case in range(1, 11):\n",
        "    num = int(input())\n",
        "    cnt = 0\n",
        "    arr = [list(input()) for _ in range(8)]\n",
        "    for i in range(8):\n",
        "        for j in range(0,8-num+1):\n",
        "            if arr[i][j:j+num] == arr[i][j:j+num][::-1]:\n",
        "                cnt +=1\n",
        "\n",
        "    for j in range(8):\n",
        "        for i in range(0,8-num+1):\n",
        "            char = '' # 1차원 배열끼리 모여 2차원 배열이 생성 되어서 세로 검사는 다른 방식으로\n",
        "            for ci in range(i,i+num):\n",
        "                char += arr[ci][j]\n",
        "            if char == char[::-1]:\n",
        "                cnt+=1\n",
        "\n",
        "    print(f'#{test_case} {cnt}')\n",
        "\n"
      ],
      "metadata": {
        "colab": {
          "base_uri": "https://localhost:8080/",
          "height": 384
        },
        "id": "1JCux4SzY1RY",
        "outputId": "5d50ef1b-7e64-4f77-9e04-5e8cc3b95000"
      },
      "execution_count": null,
      "outputs": [
        {
          "name": "stdout",
          "output_type": "stream",
          "text": [
            "4\n",
            "CBBCBAAB\n",
            "CCCBABCB\n",
            "CAAAACAB\n",
            "BACCCCAC\n",
            "AABCBBAC\n",
            "ACAACABC\n",
            "BCCBAABC\n",
            "ABBBCCAA\n"
          ]
        },
        {
          "output_type": "error",
          "ename": "IndexError",
          "evalue": "list index out of range",
          "traceback": [
            "\u001b[0;31m---------------------------------------------------------------------------\u001b[0m",
            "\u001b[0;31mIndexError\u001b[0m                                Traceback (most recent call last)",
            "\u001b[0;32m<ipython-input-21-a615487966a1>\u001b[0m in \u001b[0;36m<cell line: 2>\u001b[0;34m()\u001b[0m\n\u001b[1;32m     11\u001b[0m     \u001b[0;32mfor\u001b[0m \u001b[0mj\u001b[0m \u001b[0;32min\u001b[0m \u001b[0mrange\u001b[0m\u001b[0;34m(\u001b[0m\u001b[0;36m8\u001b[0m\u001b[0;34m)\u001b[0m\u001b[0;34m:\u001b[0m\u001b[0;34m\u001b[0m\u001b[0;34m\u001b[0m\u001b[0m\n\u001b[1;32m     12\u001b[0m         \u001b[0;32mfor\u001b[0m \u001b[0mi\u001b[0m \u001b[0;32min\u001b[0m \u001b[0mrange\u001b[0m\u001b[0;34m(\u001b[0m\u001b[0mnum\u001b[0m\u001b[0;34m+\u001b[0m\u001b[0;36m1\u001b[0m\u001b[0;34m)\u001b[0m\u001b[0;34m:\u001b[0m\u001b[0;34m\u001b[0m\u001b[0;34m\u001b[0m\u001b[0m\n\u001b[0;32m---> 13\u001b[0;31m             \u001b[0;32mif\u001b[0m \u001b[0marr\u001b[0m\u001b[0;34m[\u001b[0m\u001b[0mi\u001b[0m\u001b[0;34m:\u001b[0m\u001b[0mi\u001b[0m\u001b[0;34m+\u001b[0m\u001b[0mnum\u001b[0m\u001b[0;34m]\u001b[0m\u001b[0;34m[\u001b[0m\u001b[0mj\u001b[0m\u001b[0;34m]\u001b[0m \u001b[0;34m==\u001b[0m \u001b[0marr\u001b[0m\u001b[0;34m[\u001b[0m\u001b[0mi\u001b[0m\u001b[0;34m:\u001b[0m\u001b[0mi\u001b[0m\u001b[0;34m+\u001b[0m\u001b[0mnum\u001b[0m\u001b[0;34m:\u001b[0m\u001b[0;34m-\u001b[0m\u001b[0;36m1\u001b[0m\u001b[0;34m]\u001b[0m\u001b[0;34m[\u001b[0m\u001b[0mj\u001b[0m\u001b[0;34m]\u001b[0m\u001b[0;34m:\u001b[0m\u001b[0;34m\u001b[0m\u001b[0;34m\u001b[0m\u001b[0m\n\u001b[0m\u001b[1;32m     14\u001b[0m                 \u001b[0mcnt\u001b[0m \u001b[0;34m+=\u001b[0m\u001b[0;36m1\u001b[0m\u001b[0;34m\u001b[0m\u001b[0;34m\u001b[0m\u001b[0m\n\u001b[1;32m     15\u001b[0m \u001b[0;34m\u001b[0m\u001b[0m\n",
            "\u001b[0;31mIndexError\u001b[0m: list index out of range"
          ]
        }
      ]
    },
    {
      "cell_type": "code",
      "source": [
        "arr = list(input())\n",
        "rev = list(reversed(arr))\n",
        "#rev = arr.reverse() # 원본 같이 바뀜\n",
        "print(arr)\n",
        "print(arr == rev)\n",
        "print(rev)"
      ],
      "metadata": {
        "colab": {
          "base_uri": "https://localhost:8080/"
        },
        "id": "GNmXuyLfajPl",
        "outputId": "34d011ed-cb5b-4923-d370-7c48907f21dc"
      },
      "execution_count": null,
      "outputs": [
        {
          "output_type": "stream",
          "name": "stdout",
          "text": [
            "abcba\n",
            "['a', 'b', 'c', 'b', 'a']\n",
            "True\n",
            "['a', 'b', 'c', 'b', 'a']\n"
          ]
        }
      ]
    },
    {
      "cell_type": "code",
      "source": [
        "#5601. [Professional] 쥬스 나누기\n",
        "T = int(input())\n",
        "for test_case in range(1, T+1):\n",
        "    N = int(input())\n",
        "    print(f'#{test_case} ',end='')\n",
        "    for i in range(N):\n",
        "        print(f'1/{N}',end=' ')\n",
        "    print()\n"
      ],
      "metadata": {
        "id": "bzFaoWfOipEV"
      },
      "execution_count": null,
      "outputs": []
    },
    {
      "cell_type": "code",
      "source": [
        "#1220. [S/W 문제해결 기본] 5일차 - Magnetic\n",
        "\n",
        "for test_case in range(1, 11):\n",
        "    N = int(input())\n",
        "    arr = [list(map(int,input().split())) for _ in range(N)]\n",
        "\n",
        "    ans = 0\n",
        "    arr_t = list(zip(*arr)) # 전치 행렬\n",
        "    for lst in arr_t: # 행 단위 처리\n",
        "        prev = 0\n",
        "        for n in lst:\n",
        "            if n:\n",
        "                if n == 2 and prev == 1:# 파란색 값 & 직전값이 빨간 색 = 교착\n",
        "                    ans +=1\n",
        "                prev = n\n",
        "\n",
        "    print(f'#{test_case} {ans}')\n"
      ],
      "metadata": {
        "id": "w7u2-5KxBsYu"
      },
      "execution_count": null,
      "outputs": []
    },
    {
      "cell_type": "code",
      "source": [
        "# 1225. [S/W 문제해결 기본] 7일차 - 암호생성기\n",
        "for test_case in range(1, 11):\n",
        "    N = int(input())\n",
        "    arr = list(map(int,input().split()))\n",
        "    cnt =  1\n",
        "    while True:\n",
        "        tmp = arr[0] - cnt\n",
        "        del(arr[0])\n",
        "\n",
        "        if tmp <=0:\n",
        "            tmp = 0\n",
        "            arr.append(tmp)\n",
        "            break\n",
        "\n",
        "        arr.append(tmp)\n",
        "        if cnt == 5:\n",
        "            cnt = 1\n",
        "            continue\n",
        "        cnt += 1\n",
        "    print(f'#{test_case}',end=' ')\n",
        "    for lst in arr:\n",
        "        print(lst,end=' ')\n",
        "    print()"
      ],
      "metadata": {
        "colab": {
          "base_uri": "https://localhost:8080/",
          "height": 481
        },
        "collapsed": true,
        "id": "9-o3m_xFX_In",
        "outputId": "098b549c-4c1b-406d-e44c-97d19cffa815"
      },
      "execution_count": null,
      "outputs": [
        {
          "output_type": "stream",
          "name": "stdout",
          "text": [
            "1\n",
            "9550 9556 9550 9553 9558 9551 9551 9551\n",
            "#1 6 2 2 9 4 1 3 0 \n",
            "2\n",
            "2419 2418 2423 2415 2422 2419 2420 2415\n",
            "#2 9 7 9 5 4 3 8 0 \n"
          ]
        },
        {
          "output_type": "error",
          "ename": "KeyboardInterrupt",
          "evalue": "Interrupted by user",
          "traceback": [
            "\u001b[0;31m---------------------------------------------------------------------------\u001b[0m",
            "\u001b[0;31mKeyboardInterrupt\u001b[0m                         Traceback (most recent call last)",
            "\u001b[0;32m<ipython-input-6-1471f4f8f3b3>\u001b[0m in \u001b[0;36m<cell line: 2>\u001b[0;34m()\u001b[0m\n\u001b[1;32m      1\u001b[0m \u001b[0;31m# 1225. [S/W 문제해결 기본] 7일차 - 암호생성기\u001b[0m\u001b[0;34m\u001b[0m\u001b[0;34m\u001b[0m\u001b[0m\n\u001b[1;32m      2\u001b[0m \u001b[0;32mfor\u001b[0m \u001b[0mtest_case\u001b[0m \u001b[0;32min\u001b[0m \u001b[0mrange\u001b[0m\u001b[0;34m(\u001b[0m\u001b[0;36m1\u001b[0m\u001b[0;34m,\u001b[0m \u001b[0;36m11\u001b[0m\u001b[0;34m)\u001b[0m\u001b[0;34m:\u001b[0m\u001b[0;34m\u001b[0m\u001b[0;34m\u001b[0m\u001b[0m\n\u001b[0;32m----> 3\u001b[0;31m     \u001b[0mN\u001b[0m \u001b[0;34m=\u001b[0m \u001b[0mint\u001b[0m\u001b[0;34m(\u001b[0m\u001b[0minput\u001b[0m\u001b[0;34m(\u001b[0m\u001b[0;34m)\u001b[0m\u001b[0;34m)\u001b[0m\u001b[0;34m\u001b[0m\u001b[0;34m\u001b[0m\u001b[0m\n\u001b[0m\u001b[1;32m      4\u001b[0m     \u001b[0marr\u001b[0m \u001b[0;34m=\u001b[0m \u001b[0mlist\u001b[0m\u001b[0;34m(\u001b[0m\u001b[0mmap\u001b[0m\u001b[0;34m(\u001b[0m\u001b[0mint\u001b[0m\u001b[0;34m,\u001b[0m\u001b[0minput\u001b[0m\u001b[0;34m(\u001b[0m\u001b[0;34m)\u001b[0m\u001b[0;34m.\u001b[0m\u001b[0msplit\u001b[0m\u001b[0;34m(\u001b[0m\u001b[0;34m)\u001b[0m\u001b[0;34m)\u001b[0m\u001b[0;34m)\u001b[0m\u001b[0;34m\u001b[0m\u001b[0;34m\u001b[0m\u001b[0m\n\u001b[1;32m      5\u001b[0m     \u001b[0mcnt\u001b[0m \u001b[0;34m=\u001b[0m  \u001b[0;36m1\u001b[0m\u001b[0;34m\u001b[0m\u001b[0;34m\u001b[0m\u001b[0m\n",
            "\u001b[0;32m/usr/local/lib/python3.10/dist-packages/ipykernel/kernelbase.py\u001b[0m in \u001b[0;36mraw_input\u001b[0;34m(self, prompt)\u001b[0m\n\u001b[1;32m    849\u001b[0m                 \u001b[0;34m\"raw_input was called, but this frontend does not support input requests.\"\u001b[0m\u001b[0;34m\u001b[0m\u001b[0;34m\u001b[0m\u001b[0m\n\u001b[1;32m    850\u001b[0m             )\n\u001b[0;32m--> 851\u001b[0;31m         return self._input_request(str(prompt),\n\u001b[0m\u001b[1;32m    852\u001b[0m             \u001b[0mself\u001b[0m\u001b[0;34m.\u001b[0m\u001b[0m_parent_ident\u001b[0m\u001b[0;34m,\u001b[0m\u001b[0;34m\u001b[0m\u001b[0;34m\u001b[0m\u001b[0m\n\u001b[1;32m    853\u001b[0m             \u001b[0mself\u001b[0m\u001b[0;34m.\u001b[0m\u001b[0m_parent_header\u001b[0m\u001b[0;34m,\u001b[0m\u001b[0;34m\u001b[0m\u001b[0;34m\u001b[0m\u001b[0m\n",
            "\u001b[0;32m/usr/local/lib/python3.10/dist-packages/ipykernel/kernelbase.py\u001b[0m in \u001b[0;36m_input_request\u001b[0;34m(self, prompt, ident, parent, password)\u001b[0m\n\u001b[1;32m    893\u001b[0m             \u001b[0;32mexcept\u001b[0m \u001b[0mKeyboardInterrupt\u001b[0m\u001b[0;34m:\u001b[0m\u001b[0;34m\u001b[0m\u001b[0;34m\u001b[0m\u001b[0m\n\u001b[1;32m    894\u001b[0m                 \u001b[0;31m# re-raise KeyboardInterrupt, to truncate traceback\u001b[0m\u001b[0;34m\u001b[0m\u001b[0;34m\u001b[0m\u001b[0m\n\u001b[0;32m--> 895\u001b[0;31m                 \u001b[0;32mraise\u001b[0m \u001b[0mKeyboardInterrupt\u001b[0m\u001b[0;34m(\u001b[0m\u001b[0;34m\"Interrupted by user\"\u001b[0m\u001b[0;34m)\u001b[0m \u001b[0;32mfrom\u001b[0m \u001b[0;32mNone\u001b[0m\u001b[0;34m\u001b[0m\u001b[0;34m\u001b[0m\u001b[0m\n\u001b[0m\u001b[1;32m    896\u001b[0m             \u001b[0;32mexcept\u001b[0m \u001b[0mException\u001b[0m \u001b[0;32mas\u001b[0m \u001b[0me\u001b[0m\u001b[0;34m:\u001b[0m\u001b[0;34m\u001b[0m\u001b[0;34m\u001b[0m\u001b[0m\n\u001b[1;32m    897\u001b[0m                 \u001b[0mself\u001b[0m\u001b[0;34m.\u001b[0m\u001b[0mlog\u001b[0m\u001b[0;34m.\u001b[0m\u001b[0mwarning\u001b[0m\u001b[0;34m(\u001b[0m\u001b[0;34m\"Invalid Message:\"\u001b[0m\u001b[0;34m,\u001b[0m \u001b[0mexc_info\u001b[0m\u001b[0;34m=\u001b[0m\u001b[0;32mTrue\u001b[0m\u001b[0;34m)\u001b[0m\u001b[0;34m\u001b[0m\u001b[0;34m\u001b[0m\u001b[0m\n",
            "\u001b[0;31mKeyboardInterrupt\u001b[0m: Interrupted by user"
          ]
        }
      ]
    },
    {
      "cell_type": "code",
      "source": [
        "arr = [1,2,3,4,5,6,7]\n",
        "del(arr[0])\n",
        "arr[0]\n",
        "arr.append(1)\n",
        "arr"
      ],
      "metadata": {
        "colab": {
          "base_uri": "https://localhost:8080/"
        },
        "id": "XtdLC0vSaSOC",
        "outputId": "d25e0876-758e-4162-fdb3-ebf02547fbdb"
      },
      "execution_count": null,
      "outputs": [
        {
          "output_type": "execute_result",
          "data": {
            "text/plain": [
              "[2, 3, 4, 5, 6, 7, 1]"
            ]
          },
          "metadata": {},
          "execution_count": 3
        }
      ]
    },
    {
      "cell_type": "code",
      "source": [
        "#2805. 농작물 수확하기\n",
        "T = int(input())\n",
        "for test_case in range(1, T+1):\n",
        "    N = int(input())\n",
        "    arr = [list(map(int,input())) for _ in range(N)]\n",
        "\n",
        "    sum = 0\n",
        "    M = N//2\n",
        "    for i in range(N):\n",
        "        if i<=M:\n",
        "            for j in range(M-i,M+i+1):\n",
        "                sum += arr[i][j]\n",
        "        else:\n",
        "            for j in range(i-M,N-(i-M)):\n",
        "                sum += arr[i][j]\n",
        "\n",
        "    print(f'#{test_case} {sum}')"
      ],
      "metadata": {
        "id": "r3NRLzZbaWhb"
      },
      "execution_count": null,
      "outputs": []
    },
    {
      "cell_type": "code",
      "source": [
        "#1234. [S/W 문제해결 기본] 10일차 - 비밀번호\n",
        "T = 10\n",
        "for test_case in range(1, T+1):\n",
        "    N, password = input().split()\n",
        "    N = int(N)\n",
        "    arr = []\n",
        "    for c in password:\n",
        "        if arr and c == arr[-1]:\n",
        "            arr.pop()\n",
        "        else:\n",
        "            arr.append(c)\n",
        "\n",
        "    result = ''.join(arr)\n",
        "\n",
        "    print(f'#{test_case} {result}')\n"
      ],
      "metadata": {
        "id": "hZSizYEM84aq"
      },
      "execution_count": null,
      "outputs": []
    },
    {
      "cell_type": "code",
      "source": [
        "#1213. [S/W 문제해결 기본] 3일차 - String\n",
        "T = 10\n",
        "for test_case in range(1, T+1):\n",
        "    N = input()\n",
        "    search = input()\n",
        "    str = input()\n",
        "    cnt = str.count(search)\n",
        "\n",
        "    print(f'#{N} {cnt}')\n"
      ],
      "metadata": {
        "id": "2OhTMSczAy4E"
      },
      "execution_count": null,
      "outputs": []
    },
    {
      "cell_type": "code",
      "source": [
        "#[S/W 문제해결 응용] 1일차 - 단순 2진 암호코드\n",
        "import sys\n",
        "sys.stdin = open(\"input.txt\",\"r\")\n",
        "code = {'0001101': 0, '0011001': 1, '0010011': 2, '0111101': 3,\n",
        "        '0100011': 4, '0110001': 5, '0101111': 6, '0111011': 7, '0110111': 8, '0001011': 9}\n",
        "\n",
        "T = int(input())\n",
        "for test_case in range(1, T + 1):\n",
        "    N, M = map(int, input().split())\n",
        "    arr = [input() for _ in range(N)]\n",
        "\n",
        "    for str in arr:\n",
        "        if '1' in str:\n",
        "            idx = len(str) - 1  # 끝 인덱스\n",
        "            while str[idx] == '0':  # [1] 마지막 1인 인덱스 찾기\n",
        "                idx -= 1\n",
        "\n",
        "            ans = []\n",
        "\n",
        "            for i in range(idx - 55, idx + 1, 7):  # [2] 7개씩 암호 읽어오기\n",
        "                ans.append(code[str[i:i + 7]])\n",
        "\n",
        "            tmp = sum(ans[0:8:2]) * 3 + sum(ans[1:8:2])\n",
        "            if tmp % 10 == 0:\n",
        "                tmp = sum(ans)\n",
        "            else:\n",
        "                tmp = 0\n",
        "\n",
        "    print(f'#{test_case} {tmp}')"
      ],
      "metadata": {
        "id": "PoDJ-H9vDN4n"
      },
      "execution_count": null,
      "outputs": []
    },
    {
      "cell_type": "code",
      "source": [
        "#4466. 최대 성적표 만들기\n",
        "T = int(input())\n",
        "for test_case in range(1, T + 1):\n",
        "    N, K = map(int, input().split())\n",
        "    arr = list(map(int, input().split()))\n",
        "    arr.sort(reverse=True)\n",
        "    sum = 0\n",
        "    for i in range(K):\n",
        "        sum += arr[i]\n",
        "    print(f'#{test_case} {sum}')"
      ],
      "metadata": {
        "id": "C-QSiwo4EwfE",
        "colab": {
          "base_uri": "https://localhost:8080/"
        },
        "outputId": "e5bb4e0c-ce61-46a7-9752-e19f419df97a"
      },
      "execution_count": null,
      "outputs": [
        {
          "output_type": "stream",
          "name": "stdout",
          "text": [
            "1\n",
            "3 1\n",
            "100 90 80\n",
            "1 100\n"
          ]
        }
      ]
    },
    {
      "cell_type": "code",
      "source": [
        "#1208. [S/W 문제해결 기본] 1일차 - Flatten\n",
        "T = 10\n",
        "for test_case in range(1,T+1):\n",
        "    dump = int(input())\n",
        "    box = list(map(int, input().split()))\n",
        "\n",
        "    while dump:\n",
        "        max_box = max(box)\n",
        "        min_box = min(box)\n",
        "\n",
        "        max_idx = box.index(max_box)\n",
        "        min_idx = box.index(min_box)\n",
        "\n",
        "        box[max_idx] -= 1\n",
        "        box[min_idx] += 1\n",
        "\n",
        "        dump -= 1\n",
        "\n",
        "    result = max(box) - min(box)\n",
        "\n",
        "    print(f'#{test_case} {result}')"
      ],
      "metadata": {
        "id": "zpcR06u4emKV"
      },
      "execution_count": null,
      "outputs": []
    },
    {
      "cell_type": "code",
      "source": [
        "case,iter = map(str,input().split())\n",
        "\n",
        "int(iter)"
      ],
      "metadata": {
        "colab": {
          "base_uri": "https://localhost:8080/"
        },
        "id": "DJacAG1cOwHd",
        "outputId": "86b80783-2b57-476a-e860-9280a43bc7ec"
      },
      "execution_count": null,
      "outputs": [
        {
          "name": "stdout",
          "output_type": "stream",
          "text": [
            "#1 1712\n"
          ]
        },
        {
          "output_type": "execute_result",
          "data": {
            "text/plain": [
              "1712"
            ]
          },
          "metadata": {},
          "execution_count": 3
        }
      ]
    },
    {
      "cell_type": "code",
      "source": [
        "# 3131\n",
        "def prime_num(n):\n",
        "    is_prime = [True] * (n+1) # 기본값은 true\n",
        "    is_prime[0] = is_prime[1] = False # 0과 1은 소수가 아님\n",
        "\n",
        "    for i in range(2, int(n**0.5)+1):\n",
        "        if is_prime[i]: #  i가 소수면\n",
        "            for j in range(i*i,n+1,i):\n",
        "                is_prime[j] = False # i의 배수는 소수가 아님\n",
        "\n",
        "    primes = [num for num,prime in enumerate(is_prime) if prime] # 소수 배열\n",
        "\n",
        "    return primes\n",
        "\n",
        "\n",
        "primes = prime_num(1000000)\n",
        "for i in primes:\n",
        "    print(i, end=' ')\n",
        "\n",
        "# 소수의 성질: 만약 어떤 수 n이 소수라면,\n",
        "# n의 배수는 n보다 크거나 같은 수에서 시작합니다.\n",
        "# 따라서 n의 제곱보다 큰 수들은 이미 n의 배수로 지워졌을 것입니다.\n",
        "\n",
        "# 제곱근 사용: 그래서 n의 배수를 찾으려면,\n",
        "# n이 루트(limit)까지의 수일 때만 해당합니다.\n",
        "# 이 범위까지만 체크하면 그 이후의 수는 이미 처리되었기 때문입니다.\n",
        "# 에라토스테네스의 체"
      ],
      "metadata": {
        "id": "B7PHgD5Je-4P"
      },
      "execution_count": null,
      "outputs": []
    }
  ]
}