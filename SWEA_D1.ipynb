{
  "nbformat": 4,
  "nbformat_minor": 0,
  "metadata": {
    "colab": {
      "provenance": [],
      "authorship_tag": "ABX9TyMRpwFp/gWnR1idfuAPk+Xj",
      "include_colab_link": true
    },
    "kernelspec": {
      "name": "python3",
      "display_name": "Python 3"
    },
    "language_info": {
      "name": "python"
    }
  },
  "cells": [
    {
      "cell_type": "markdown",
      "metadata": {
        "id": "view-in-github",
        "colab_type": "text"
      },
      "source": [
        "<a href=\"https://colab.research.google.com/github/JJ-HMFIC/SWEA/blob/main/SWEA_D1.ipynb\" target=\"_parent\"><img src=\"https://colab.research.google.com/assets/colab-badge.svg\" alt=\"Open In Colab\"/></a>"
      ]
    },
    {
      "cell_type": "code",
      "execution_count": null,
      "metadata": {
        "colab": {
          "base_uri": "https://localhost:8080/"
        },
        "id": "dWZKpCYnDGZE",
        "outputId": "aef9c61d-aabd-4b6b-cdcf-213bc8a17b77"
      },
      "outputs": [
        {
          "output_type": "stream",
          "name": "stdout",
          "text": [
            "3\n",
            "###"
          ]
        }
      ],
      "source": [
        "var= int(input(''))\n",
        "for i in range(0,var):\n",
        "    print('#',end='')"
      ]
    },
    {
      "cell_type": "code",
      "source": [
        "def cal(a,b):\n",
        "  add = a+b\n",
        "  sub = a-b\n",
        "  mul = a*b\n",
        "  div = a//b\n",
        "  return add,sub,mul,div\n",
        "tmp = input()\n",
        "tmp = tmp.split(' ')\n",
        "a = int(tmp[0])\n",
        "b = int(tmp[1])\n",
        "add,sub,mul,div = cal(a,b)\n",
        "print(add)\n",
        "print(sub)\n",
        "print(mul)\n",
        "print(div)"
      ],
      "metadata": {
        "colab": {
          "base_uri": "https://localhost:8080/"
        },
        "id": "eY50KdfMDM_c",
        "outputId": "bda6906a-483a-472f-da3e-e51002d9509c"
      },
      "execution_count": null,
      "outputs": [
        {
          "output_type": "stream",
          "name": "stdout",
          "text": [
            "8 3\n",
            "11\n",
            "5\n",
            "24\n",
            "2\n"
          ]
        }
      ]
    },
    {
      "cell_type": "code",
      "source": [
        "text = input()\n",
        "print(text.upper())"
      ],
      "metadata": {
        "colab": {
          "base_uri": "https://localhost:8080/"
        },
        "id": "lswnaxGJEPAR",
        "outputId": "3a39bdc0-4ce8-4495-b1db-9c6f8f84847b"
      },
      "execution_count": null,
      "outputs": [
        {
          "output_type": "stream",
          "name": "stdout",
          "text": [
            "The_headline_is_the_text_indicating_the_nature_of_the_article_below_it\n",
            "THE_HEADLINE_IS_THE_TEXT_INDICATING_THE_NATURE_OF_THE_ARTICLE_BELOW_IT\n"
          ]
        }
      ]
    },
    {
      "cell_type": "code",
      "source": [
        "num = int(input())\n",
        "sum = 0\n",
        "for i in range(1,num+1):\n",
        "   sum += i\n",
        "print(sum)"
      ],
      "metadata": {
        "colab": {
          "base_uri": "https://localhost:8080/"
        },
        "id": "Q6OkV0LpF2ee",
        "outputId": "cadc9729-b2c1-4450-9056-a1e7b1fe328c"
      },
      "execution_count": null,
      "outputs": [
        {
          "output_type": "stream",
          "name": "stdout",
          "text": [
            "10\n",
            "55\n"
          ]
        }
      ]
    },
    {
      "cell_type": "code",
      "source": [
        "tmp = input()\n",
        "tmp = tmp.split(' ')\n",
        "a = int(tmp[0])\n",
        "b = int(tmp[1])\n",
        "print(a-b+1)"
      ],
      "metadata": {
        "colab": {
          "base_uri": "https://localhost:8080/"
        },
        "id": "mUVLkl3EGbHK",
        "outputId": "62311891-829e-47d6-c405-d2dac7fd22f8"
      },
      "execution_count": null,
      "outputs": [
        {
          "output_type": "stream",
          "name": "stdout",
          "text": [
            "123 100\n",
            "24\n"
          ]
        }
      ]
    },
    {
      "cell_type": "code",
      "source": [
        "tmp = int(input())\n",
        "sum = 0\n",
        "while(tmp>0):\n",
        "  sum += tmp%10\n",
        "  tmp = tmp//10\n",
        "print(sum)"
      ],
      "metadata": {
        "colab": {
          "base_uri": "https://localhost:8080/"
        },
        "id": "IYzt0ZPFGzBB",
        "outputId": "8e0aa6d1-266e-4540-b9a2-a9322017e578"
      },
      "execution_count": null,
      "outputs": [
        {
          "output_type": "stream",
          "name": "stdout",
          "text": [
            "6789\n",
            "30\n"
          ]
        }
      ]
    },
    {
      "cell_type": "code",
      "source": [
        "tmp = input()\n",
        "tmp = tmp.split(' ')\n",
        "a = int(tmp[0])\n",
        "b = int(tmp[1])\n",
        "if(a+b==4):\n",
        "  if(a==1):\n",
        "    print('A')\n",
        "  else:\n",
        "    print('B')\n",
        "elif(a>b):\n",
        "  print('A')\n",
        "else:\n",
        "  print('B')"
      ],
      "metadata": {
        "colab": {
          "base_uri": "https://localhost:8080/"
        },
        "id": "vYMQVLUFHSfL",
        "outputId": "7d81ad01-ddb4-4306-99d2-61434e074be8"
      },
      "execution_count": null,
      "outputs": [
        {
          "output_type": "stream",
          "name": "stdout",
          "text": [
            "3 2\n",
            "A\n"
          ]
        }
      ]
    },
    {
      "cell_type": "code",
      "source": [
        "for i in range(0,5):\n",
        "  for j in range(0,5):\n",
        "   if(i==j): print('#',end='')\n",
        "   else: print('+',end='')\n",
        "  print()"
      ],
      "metadata": {
        "colab": {
          "base_uri": "https://localhost:8080/"
        },
        "id": "-m1vGQtVIW2n",
        "outputId": "4c25754f-35ce-4835-9a3f-b5292dbe118f"
      },
      "execution_count": null,
      "outputs": [
        {
          "output_type": "stream",
          "name": "stdout",
          "text": [
            "#++++\n",
            "+#+++\n",
            "++#++\n",
            "+++#+\n",
            "++++#\n"
          ]
        }
      ]
    },
    {
      "cell_type": "code",
      "source": [
        "iter = int(input())\n",
        "one = []\n",
        "two = []\n",
        "for i in range(0,iter):\n",
        "  tmp = input()\n",
        "  tmp = tmp.split(' ')\n",
        "  one.append(int(tmp[0]))\n",
        "  two.append(int(tmp[1]))\n",
        "for i in range(0,iter):\n",
        "  print(f'#{i+1} {one[i]//two[i]} {one[i]%two[i]}')\n"
      ],
      "metadata": {
        "colab": {
          "base_uri": "https://localhost:8080/"
        },
        "id": "kJPrEn-zKoH8",
        "outputId": "16ce9521-a466-40a4-b2b2-8f44b0fe377b"
      },
      "execution_count": null,
      "outputs": [
        {
          "output_type": "stream",
          "name": "stdout",
          "text": [
            "3\n",
            "9 2\n",
            "15 6\n",
            "369 15\n",
            "#1 4 1\n",
            "#2 2 3\n",
            "#3 24 9\n"
          ]
        }
      ]
    },
    {
      "cell_type": "code",
      "source": [
        "iter = int(input())\n",
        "text = []\n",
        "for i in range(0,iter):\n",
        "  max = 0\n",
        "  tmp = input()\n",
        "  tmp = tmp.split(' ')\n",
        "  for j in range(0,10):\n",
        "    if(int(tmp[j])>max):\n",
        "      max = int(tmp[j])\n",
        "  text.append(f'#{i+1} {max}')\n",
        "for i in range(0,iter):\n",
        "  print(text[i])\n"
      ],
      "metadata": {
        "colab": {
          "base_uri": "https://localhost:8080/"
        },
        "id": "54datpVFLRiv",
        "outputId": "79374f61-ce69-4ff2-905d-eb477e18c94f"
      },
      "execution_count": null,
      "outputs": [
        {
          "output_type": "stream",
          "name": "stdout",
          "text": [
            "3\n",
            "3 17 1 39 8 41 2 32 99 2\n",
            "22 8 5 123 7 2 63 7 3 46\n",
            "6 63 2 3 58 76 21 33 8 1\n",
            "#1 99\n",
            "#2 123\n",
            "#3 76\n"
          ]
        }
      ]
    },
    {
      "cell_type": "code",
      "source": [
        "num = int(input())\n",
        "for i in range(1,num+1):\n",
        "  if(num%i==0):\n",
        "    print(i,end=' ')"
      ],
      "metadata": {
        "colab": {
          "base_uri": "https://localhost:8080/"
        },
        "id": "A1hpHyM9Nvvl",
        "outputId": "1603b710-55a9-4616-b3ae-68e452fd8edf"
      },
      "execution_count": null,
      "outputs": [
        {
          "output_type": "stream",
          "name": "stdout",
          "text": [
            "10\n",
            "1 2 5 10 "
          ]
        }
      ]
    },
    {
      "cell_type": "code",
      "source": [
        "iter = int(input())\n",
        "one = []\n",
        "two = []\n",
        "for i in range(0,iter):\n",
        "  tmp = input()\n",
        "  tmp = tmp.split(' ')\n",
        "  one.append(int(tmp[0]))\n",
        "  two.append(int(tmp[1]))\n",
        "for i in range(0,iter):\n",
        "  print(f'#{i+1}',end=' ')\n",
        "  if(one[i]>two[i]):\n",
        "    print('>')\n",
        "  elif(one[i]<two[i]):\n",
        "    print('<')\n",
        "  else:\n",
        "    print('=')"
      ],
      "metadata": {
        "colab": {
          "base_uri": "https://localhost:8080/"
        },
        "id": "W0X2PK6CPSa-",
        "outputId": "5c61cd94-2aec-4997-e408-af0a6bdb00af"
      },
      "execution_count": null,
      "outputs": [
        {
          "output_type": "stream",
          "name": "stdout",
          "text": [
            "3\n",
            "3 8\n",
            "7 7\n",
            "369 123\n",
            "#1 <\n",
            "#2 =\n",
            "#3 >\n"
          ]
        }
      ]
    },
    {
      "cell_type": "code",
      "source": [
        "tmp = input()\n",
        "\n",
        "for i in tmp:\n",
        "  print(ord(i)-64,end=' ')\n",
        "\n",
        "# ord(i) : 하나의 문자를 인자로 받고 해당 문자에 해당하는 유니코드 정수를 반환\n",
        "# chr(i) : 하나의 정수를 인자로 받고 해당 정수에 해당하는 유니코드 문자를 반환"
      ],
      "metadata": {
        "id": "BHNMjyqcRFOF",
        "colab": {
          "base_uri": "https://localhost:8080/"
        },
        "outputId": "21606c14-6519-4306-c890-1e0b134adc70"
      },
      "execution_count": null,
      "outputs": [
        {
          "output_type": "stream",
          "name": "stdout",
          "text": [
            "ABC\n",
            "1 2 3 "
          ]
        }
      ]
    },
    {
      "cell_type": "code",
      "source": [
        "iter = int(input())\n",
        "tmp = 1\n",
        "for i in range(0,iter+1):\n",
        "  print(tmp,end=' ')\n",
        "  tmp *= 2\n"
      ],
      "metadata": {
        "colab": {
          "base_uri": "https://localhost:8080/"
        },
        "id": "Tz5ev9AXGyth",
        "outputId": "c4bae811-94b6-4109-c045-8e42dbd1ea02"
      },
      "execution_count": null,
      "outputs": [
        {
          "output_type": "stream",
          "name": "stdout",
          "text": [
            "8\n",
            "1 2 4 8 16 32 64 128 256 "
          ]
        }
      ]
    },
    {
      "cell_type": "code",
      "source": [
        "iter = int(input())\n",
        "\n",
        "for i in range(iter+1):\n",
        "  print(iter, end = ' ')\n",
        "  iter -= 1\n"
      ],
      "metadata": {
        "colab": {
          "base_uri": "https://localhost:8080/"
        },
        "id": "xOjIJbpSMdfm",
        "outputId": "4a1e2ec1-acef-4537-9c5f-30667e739d23"
      },
      "execution_count": null,
      "outputs": [
        {
          "output_type": "stream",
          "name": "stdout",
          "text": [
            "8\n",
            "8 7 6 5 4 3 2 1 0 "
          ]
        }
      ]
    },
    {
      "cell_type": "code",
      "source": [
        "idx = int(input())\n",
        "idx = idx//2\n",
        "tmp = list(map(int,input().split()))\n",
        "tmp.sort()\n",
        "print(tmp[idx])\n"
      ],
      "metadata": {
        "colab": {
          "base_uri": "https://localhost:8080/"
        },
        "id": "T2rGPjCKNK3u",
        "outputId": "7feb9ec5-6747-4a01-e04d-e334c93200a1"
      },
      "execution_count": null,
      "outputs": [
        {
          "output_type": "stream",
          "name": "stdout",
          "text": [
            "199\n",
            "85 72 38 80 69 65 68 96 22 49 67 51 61 63 87 66 24 80 83 71 60 64 52 90 60 49 31 23 99 94 11 25 24 51 15 13 39 67 97 19 76 12 33 99 18 92 35 74 0 95 71 39 33 39 32 37 45 57 71 95 5 71 24 86 8 51 54 74 24 75 70 33 63 29 99 59 94 52 13 35 99 46 57 71 23 17 3 94 48 77 18 83 11 83 25 59 62 2 78 86 7 94 65 80 32 39 84 60 65 72 61 58 84 8 72 12 19 47 49 49 59 71 52 34 22 21 20 92 33 80 39 74 9 28 97 100 93 29 25 4 66 79 81 98 21 91 62 82 4 59 100 34 1 51 80 92 69 77 39 38 97 51 34 35 19 22 1 67 9 90 31 82 11 51 84 78 70 74 42 100 88 53 80 57 62 32 51 48 63 92 46 4 61 31 98 69 52 88 20\n",
            "58\n"
          ]
        }
      ]
    },
    {
      "cell_type": "code",
      "source": [
        "iter = int(input())\n",
        "arr = []\n",
        "for i in range(1,iter+1):\n",
        "  tmp = list(map(int,input().split()))\n",
        "  sum = 0\n",
        "  for j in range(len(tmp)):\n",
        "    if tmp[j]%2==1:\n",
        "      sum += tmp[j]\n",
        "  arr.append(sum)\n",
        "for i in range(1, iter+1):\n",
        "  print(f'#{i} {arr[i-1]}')\n",
        "\n"
      ],
      "metadata": {
        "colab": {
          "base_uri": "https://localhost:8080/"
        },
        "id": "o_EZpyJUQdXR",
        "outputId": "cc4bd153-e64a-443c-8a54-4f880e170a8e"
      },
      "execution_count": null,
      "outputs": [
        {
          "output_type": "stream",
          "name": "stdout",
          "text": [
            "3\n",
            "3 17 1 39 8 41 2 32 99 2\n",
            "22 8 5 123 7 2 63 7 3 46\n",
            "6 63 2 3 58 76 21 33 8 1   \n",
            "#1 200\n",
            "#2 208\n",
            "#3 121\n"
          ]
        }
      ]
    },
    {
      "cell_type": "code",
      "source": [
        "iter = int(input())\n",
        "arr = []\n",
        "for i in range(iter):\n",
        "  tmp = list(map(int,input().split()))\n",
        "  avg = round(sum(tmp)/len(tmp))\n",
        "  arr.append(avg)\n",
        "for i in range(iter):\n",
        "  print(f'#{i+1} {arr[i]}')"
      ],
      "metadata": {
        "colab": {
          "base_uri": "https://localhost:8080/"
        },
        "id": "BAtGltt5q7yY",
        "outputId": "9aba8a5e-bc34-41d3-8378-dd578463443c"
      },
      "execution_count": 5,
      "outputs": [
        {
          "output_type": "stream",
          "name": "stdout",
          "text": [
            "3\n",
            "3 17 1 39 8 41 2 32 99 2\n",
            "22 8 5 123 7 2 63 7 3 46\n",
            "6 63 2 3 58 76 21 33 8 1\n",
            "#1 24\n",
            "#2 29\n",
            "#3 27\n"
          ]
        }
      ]
    },
    {
      "cell_type": "code",
      "source": [
        "data = {1:31,2:28,3:31,4:30,5:31,6:30,7:31,8:31,9:30,10:31,11:30,12:31}\n",
        "\n",
        "iter = int(input())\n",
        "arr = []\n",
        "for i in range(iter):\n",
        "  tmp = input()\n",
        "\n",
        "  year = tmp[:4]\n",
        "  month = tmp[4:6]\n",
        "  day = tmp[6:]\n",
        "\n",
        "\n",
        "  if(0<int(month)<=12 and 0<int(day)<=data[int(month)]):\n",
        "    arr.append(year+'/'+month+'/'+day)\n",
        "  else:\n",
        "    arr.append(-1)\n",
        "\n",
        "\n",
        "for i in range(iter):\n",
        "  print(f'#{i+1} {arr[i]}')\n",
        "\n",
        "\n",
        ""
      ],
      "metadata": {
        "colab": {
          "base_uri": "https://localhost:8080/"
        },
        "id": "KolTYQcireqn",
        "outputId": "b7365bef-6791-4c08-8cd6-6d572bae8f77"
      },
      "execution_count": 12,
      "outputs": [
        {
          "output_type": "stream",
          "name": "stdout",
          "text": [
            "3\n",
            "22220228\n",
            "20150002\n",
            "01010101\n",
            "#1 2222/02/28\n",
            "#2 -1\n",
            "#3 0101/01/01\n"
          ]
        }
      ]
    }
  ]
}