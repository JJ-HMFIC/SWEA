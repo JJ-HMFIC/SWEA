{
  "nbformat": 4,
  "nbformat_minor": 0,
  "metadata": {
    "colab": {
      "provenance": []
    },
    "kernelspec": {
      "name": "python3",
      "display_name": "Python 3"
    },
    "language_info": {
      "name": "python"
    }
  },
  "cells": [
    {
      "cell_type": "code",
      "execution_count": null,
      "metadata": {
        "colab": {
          "base_uri": "https://localhost:8080/"
        },
        "id": "dWZKpCYnDGZE",
        "outputId": "aef9c61d-aabd-4b6b-cdcf-213bc8a17b77"
      },
      "outputs": [
        {
          "output_type": "stream",
          "name": "stdout",
          "text": [
            "3\n",
            "###"
          ]
        }
      ],
      "source": [
        "var= int(input(''))\n",
        "for i in range(0,var):\n",
        "    print('#',end='')"
      ]
    },
    {
      "cell_type": "code",
      "source": [
        "def cal(a,b):\n",
        "  add = a+b\n",
        "  sub = a-b\n",
        "  mul = a*b\n",
        "  div = a//b\n",
        "  return add,sub,mul,div\n",
        "tmp = input()\n",
        "tmp = tmp.split(' ')\n",
        "a = int(tmp[0])\n",
        "b = int(tmp[1])\n",
        "add,sub,mul,div = cal(a,b)\n",
        "print(add)\n",
        "print(sub)\n",
        "print(mul)\n",
        "print(div)"
      ],
      "metadata": {
        "colab": {
          "base_uri": "https://localhost:8080/"
        },
        "id": "eY50KdfMDM_c",
        "outputId": "bda6906a-483a-472f-da3e-e51002d9509c"
      },
      "execution_count": null,
      "outputs": [
        {
          "output_type": "stream",
          "name": "stdout",
          "text": [
            "8 3\n",
            "11\n",
            "5\n",
            "24\n",
            "2\n"
          ]
        }
      ]
    },
    {
      "cell_type": "code",
      "source": [
        "text = input()\n",
        "print(text.upper())"
      ],
      "metadata": {
        "colab": {
          "base_uri": "https://localhost:8080/"
        },
        "id": "lswnaxGJEPAR",
        "outputId": "3a39bdc0-4ce8-4495-b1db-9c6f8f84847b"
      },
      "execution_count": null,
      "outputs": [
        {
          "output_type": "stream",
          "name": "stdout",
          "text": [
            "The_headline_is_the_text_indicating_the_nature_of_the_article_below_it\n",
            "THE_HEADLINE_IS_THE_TEXT_INDICATING_THE_NATURE_OF_THE_ARTICLE_BELOW_IT\n"
          ]
        }
      ]
    },
    {
      "cell_type": "code",
      "source": [
        "num = int(input())\n",
        "sum = 0\n",
        "for i in range(1,num+1):\n",
        "   sum += i\n",
        "print(sum)"
      ],
      "metadata": {
        "colab": {
          "base_uri": "https://localhost:8080/"
        },
        "id": "Q6OkV0LpF2ee",
        "outputId": "cadc9729-b2c1-4450-9056-a1e7b1fe328c"
      },
      "execution_count": null,
      "outputs": [
        {
          "output_type": "stream",
          "name": "stdout",
          "text": [
            "10\n",
            "55\n"
          ]
        }
      ]
    },
    {
      "cell_type": "code",
      "source": [
        "tmp = input()\n",
        "tmp = tmp.split(' ')\n",
        "a = int(tmp[0])\n",
        "b = int(tmp[1])\n",
        "print(a-b+1)"
      ],
      "metadata": {
        "colab": {
          "base_uri": "https://localhost:8080/"
        },
        "id": "mUVLkl3EGbHK",
        "outputId": "62311891-829e-47d6-c405-d2dac7fd22f8"
      },
      "execution_count": null,
      "outputs": [
        {
          "output_type": "stream",
          "name": "stdout",
          "text": [
            "123 100\n",
            "24\n"
          ]
        }
      ]
    },
    {
      "cell_type": "code",
      "source": [
        "tmp = int(input())\n",
        "sum = 0\n",
        "while(tmp>0):\n",
        "  sum += tmp%10\n",
        "  tmp = tmp//10\n",
        "print(sum)"
      ],
      "metadata": {
        "colab": {
          "base_uri": "https://localhost:8080/"
        },
        "id": "IYzt0ZPFGzBB",
        "outputId": "8e0aa6d1-266e-4540-b9a2-a9322017e578"
      },
      "execution_count": null,
      "outputs": [
        {
          "output_type": "stream",
          "name": "stdout",
          "text": [
            "6789\n",
            "30\n"
          ]
        }
      ]
    },
    {
      "cell_type": "code",
      "source": [
        "tmp = input()\n",
        "tmp = tmp.split(' ')\n",
        "a = int(tmp[0])\n",
        "b = int(tmp[1])\n",
        "if(a+b==4):\n",
        "  if(a==1):\n",
        "    print('A')\n",
        "  else:\n",
        "    print('B')\n",
        "elif(a>b):\n",
        "  print('A')\n",
        "else:\n",
        "  print('B')"
      ],
      "metadata": {
        "colab": {
          "base_uri": "https://localhost:8080/"
        },
        "id": "vYMQVLUFHSfL",
        "outputId": "7d81ad01-ddb4-4306-99d2-61434e074be8"
      },
      "execution_count": null,
      "outputs": [
        {
          "output_type": "stream",
          "name": "stdout",
          "text": [
            "3 2\n",
            "A\n"
          ]
        }
      ]
    },
    {
      "cell_type": "code",
      "source": [
        "for i in range(0,5):\n",
        "  for j in range(0,5):\n",
        "   if(i==j): print('#',end='')\n",
        "   else: print('+',end='')\n",
        "  print()"
      ],
      "metadata": {
        "colab": {
          "base_uri": "https://localhost:8080/"
        },
        "id": "-m1vGQtVIW2n",
        "outputId": "4c25754f-35ce-4835-9a3f-b5292dbe118f"
      },
      "execution_count": null,
      "outputs": [
        {
          "output_type": "stream",
          "name": "stdout",
          "text": [
            "#++++\n",
            "+#+++\n",
            "++#++\n",
            "+++#+\n",
            "++++#\n"
          ]
        }
      ]
    },
    {
      "cell_type": "code",
      "source": [
        "iter = int(input())\n",
        "one = []\n",
        "two = []\n",
        "for i in range(0,iter):\n",
        "  tmp = input()\n",
        "  tmp = tmp.split(' ')\n",
        "  one.append(int(tmp[0]))\n",
        "  two.append(int(tmp[1]))\n",
        "for i in range(0,iter):\n",
        "  print(f'#{i+1} {one[i]//two[i]} {one[i]%two[i]}')\n"
      ],
      "metadata": {
        "colab": {
          "base_uri": "https://localhost:8080/"
        },
        "id": "kJPrEn-zKoH8",
        "outputId": "16ce9521-a466-40a4-b2b2-8f44b0fe377b"
      },
      "execution_count": null,
      "outputs": [
        {
          "output_type": "stream",
          "name": "stdout",
          "text": [
            "3\n",
            "9 2\n",
            "15 6\n",
            "369 15\n",
            "#1 4 1\n",
            "#2 2 3\n",
            "#3 24 9\n"
          ]
        }
      ]
    },
    {
      "cell_type": "code",
      "source": [
        "iter = int(input())\n",
        "text = []\n",
        "for i in range(0,iter):\n",
        "  max = 0\n",
        "  tmp = input()\n",
        "  tmp = tmp.split(' ')\n",
        "  for j in range(0,10):\n",
        "    if(int(tmp[j])>max):\n",
        "      max = int(tmp[j])\n",
        "  text.append(f'#{i+1} {max}')\n",
        "for i in range(0,iter):\n",
        "  print(text[i])\n"
      ],
      "metadata": {
        "colab": {
          "base_uri": "https://localhost:8080/"
        },
        "id": "54datpVFLRiv",
        "outputId": "79374f61-ce69-4ff2-905d-eb477e18c94f"
      },
      "execution_count": null,
      "outputs": [
        {
          "output_type": "stream",
          "name": "stdout",
          "text": [
            "3\n",
            "3 17 1 39 8 41 2 32 99 2\n",
            "22 8 5 123 7 2 63 7 3 46\n",
            "6 63 2 3 58 76 21 33 8 1\n",
            "#1 99\n",
            "#2 123\n",
            "#3 76\n"
          ]
        }
      ]
    },
    {
      "cell_type": "code",
      "source": [
        "num = int(input())\n",
        "for i in range(1,num+1):\n",
        "  if(num%i==0):\n",
        "    print(i,end=' ')"
      ],
      "metadata": {
        "colab": {
          "base_uri": "https://localhost:8080/"
        },
        "id": "A1hpHyM9Nvvl",
        "outputId": "1603b710-55a9-4616-b3ae-68e452fd8edf"
      },
      "execution_count": null,
      "outputs": [
        {
          "output_type": "stream",
          "name": "stdout",
          "text": [
            "10\n",
            "1 2 5 10 "
          ]
        }
      ]
    },
    {
      "cell_type": "code",
      "source": [
        "iter = int(input())\n",
        "one = []\n",
        "two = []\n",
        "for i in range(0,iter):\n",
        "  tmp = input()\n",
        "  tmp = tmp.split(' ')\n",
        "  one.append(int(tmp[0]))\n",
        "  two.append(int(tmp[1]))\n",
        "for i in range(0,iter):\n",
        "  print(f'#{i+1}',end=' ')\n",
        "  if(one[i]>two[i]):\n",
        "    print('>')\n",
        "  elif(one[i]<two[i]):\n",
        "    print('<')\n",
        "  else:\n",
        "    print('=')"
      ],
      "metadata": {
        "colab": {
          "base_uri": "https://localhost:8080/"
        },
        "id": "W0X2PK6CPSa-",
        "outputId": "5c61cd94-2aec-4997-e408-af0a6bdb00af"
      },
      "execution_count": null,
      "outputs": [
        {
          "output_type": "stream",
          "name": "stdout",
          "text": [
            "3\n",
            "3 8\n",
            "7 7\n",
            "369 123\n",
            "#1 <\n",
            "#2 =\n",
            "#3 >\n"
          ]
        }
      ]
    },
    {
      "cell_type": "code",
      "source": [],
      "metadata": {
        "id": "BHNMjyqcRFOF"
      },
      "execution_count": null,
      "outputs": []
    }
  ]
}